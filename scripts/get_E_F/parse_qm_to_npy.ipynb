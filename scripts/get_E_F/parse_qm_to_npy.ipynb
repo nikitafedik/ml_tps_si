{
 "cells": [
  {
   "cell_type": "code",
   "execution_count": 1,
   "metadata": {},
   "outputs": [],
   "source": [
    "import numpy as np\n",
    "import os\n",
    "\n",
    "from cclib.io import ccread\n",
    "from cclib.parser.utils import convertor as conv\n",
    "\n",
    "from ase.io import read as aseread\n",
    "from ase.units import kcal, mol, eV, Hartree, Bohr, Angstrom\n",
    "\n",
    "from pathlib import Path\n",
    "from natsort import natsorted"
   ]
  },
  {
   "cell_type": "code",
   "execution_count": 2,
   "metadata": {},
   "outputs": [],
   "source": [
    "def list_files(path, ext):\n",
    "    \"\"\"list files in a directory with a given extension\n",
    "    Args:\n",
    "        path (): _description_\n",
    "        ext (str): extension without the dot (log, out, ...)\n",
    "\n",
    "    Returns:\n",
    "        list: collection of files with the given extension\n",
    "    \"\"\"\n",
    "    path = Path(path)\n",
    "    files =  [str(x) for x in path.iterdir() if x.is_file() and x.suffix == f'.{ext}']\n",
    "    files = natsorted(files) # natsort by filenames; pathlib objects could not be sorted directly! \n",
    "    \n",
    "    return files"
   ]
  },
  {
   "cell_type": "code",
   "execution_count": 3,
   "metadata": {},
   "outputs": [],
   "source": [
    "def get_E(file, parser):\n",
    "    \"\"\"_summary_\n",
    "\n",
    "    Args:\n",
    "        file (str): full path to file\n",
    "        parser (str): ase or cclib\n",
    "\n",
    "    Raises:\n",
    "        ValueError: wrong parser\n",
    "\n",
    "    Returns:\n",
    "        E: Energy in kcal/mol\n",
    "    \"\"\"\n",
    "    # print('file: ', file)\n",
    "    if parser == 'cclib':\n",
    "        data = ccread(file)\n",
    "        E = data.scfenergies[-1]\n",
    "    elif parser == 'ase':\n",
    "        atoms = aseread(file)\n",
    "        E = atoms.get_potential_energy()\n",
    "    else:\n",
    "        raise ValueError('Unknown parser')\n",
    "\n",
    "    return E"
   ]
  },
  {
   "cell_type": "code",
   "execution_count": 4,
   "metadata": {},
   "outputs": [],
   "source": [
    "def get_forces(file, parser):\n",
    "    \"\"\"_summary_\n",
    "\n",
    "    Args:\n",
    "        file (str): full path to file\n",
    "        parser (str): ase or cclib\n",
    "\n",
    "    Raises:\n",
    "        ValueError: wrong parser\n",
    "\n",
    "    Returns:\n",
    "        E: Energy in kcal/mol\n",
    "    \"\"\"\n",
    "    if parser == 'cclib':\n",
    "        data = ccread(file)\n",
    "        F = data.grads[-1]\n",
    "    elif parser == 'ase':\n",
    "        atoms = aseread(file)\n",
    "        F = atoms.get_forces()\n",
    "    else:\n",
    "        raise ValueError('Unknown parser')\n",
    "\n",
    "    return F"
   ]
  },
  {
   "cell_type": "code",
   "execution_count": 19,
   "metadata": {},
   "outputs": [],
   "source": [
    "def get_positions(file, parser):\n",
    "    \n",
    "    if parser == 'cclib':\n",
    "        data = ccread(file)\n",
    "        F = data.positions[-1]\n",
    "    if parser == 'ase':\n",
    "        atoms = aseread(file)\n",
    "        R = atoms.get_positions()\n",
    "    else:\n",
    "        raise ValueError('Unknown parser')\n",
    "    \n",
    "    return R"
   ]
  },
  {
   "cell_type": "code",
   "execution_count": 20,
   "metadata": {},
   "outputs": [],
   "source": [
    "def get_atomic_numbers(file, parser):\n",
    "    \n",
    "    if parser == 'cclib':\n",
    "        data = ccread(file)\n",
    "        F = data.atomic_numbers[-1]\n",
    "    if parser == 'ase':\n",
    "        atoms = aseread(file)\n",
    "        Z = atoms.get_atomic_numbers()\n",
    "    else:\n",
    "        raise ValueError('Unknown parser')\n",
    "    \n",
    "    return Z"
   ]
  },
  {
   "cell_type": "code",
   "execution_count": 21,
   "metadata": {},
   "outputs": [],
   "source": [
    "def save_npy(array, filename):    \n",
    "    np.save(filename, array)"
   ]
  },
  {
   "cell_type": "code",
   "execution_count": 9,
   "metadata": {},
   "outputs": [],
   "source": [
    "def convert_array(array, new_units):\n",
    "    array = array * new_units\n",
    "\n",
    "    return  array"
   ]
  },
  {
   "cell_type": "code",
   "execution_count": 10,
   "metadata": {},
   "outputs": [],
   "source": [
    "def parse_output(path, ext, parser):\n",
    "\n",
    "    files = list_files(path, ext) \n",
    "    E = [get_E(file, parser) for file in files]\n",
    "    F = [get_forces(file, parser) for file in files]\n",
    "    p = [Path(file) for file in files]\n",
    "    R = [get_positions(file, parser) for file in files]\n",
    "    Z = [get_atomic_numbers(file, parser) for file in files]\n",
    "    \n",
    "    E = np.array(E)\n",
    "    F = np.array(F)\n",
    "    R = np.array(R)\n",
    "    Z = np.array(Z)\n",
    "    p = np.array(p)\n",
    "    \n",
    "    return E, F, R, Z, p\n"
   ]
  },
  {
   "cell_type": "code",
   "execution_count": 16,
   "metadata": {},
   "outputs": [
    {
     "name": "stdout",
     "output_type": "stream",
     "text": [
      "/vast/projects/ml4chem/NikitaFedik/DATA/ml-tps-ad-az\n"
     ]
    }
   ],
   "source": [
    "cd .."
   ]
  },
  {
   "cell_type": "code",
   "execution_count": 17,
   "metadata": {},
   "outputs": [
    {
     "data": {
      "text/plain": [
       "'/vast/projects/ml4chem/NikitaFedik/DATA/ml-tps-ad-az'"
      ]
     },
     "execution_count": 17,
     "metadata": {},
     "output_type": "execute_result"
    }
   ],
   "source": [
    "pwd"
   ]
  },
  {
   "cell_type": "markdown",
   "metadata": {},
   "source": [
    "### save azobenzene data"
   ]
  },
  {
   "cell_type": "code",
   "execution_count": null,
   "metadata": {},
   "outputs": [],
   "source": [
    "az_path = 'data/AZ/thermal_MD_10k/logs'\n",
    "az_E, az_F, az_R, az_Z, az_p = parse_output(az_path, 'log', 'ase')"
   ]
  },
  {
   "cell_type": "code",
   "execution_count": null,
   "metadata": {},
   "outputs": [],
   "source": [
    "os.chdir('data/AZ/thermal_MD_10k')"
   ]
  },
  {
   "cell_type": "code",
   "execution_count": 24,
   "metadata": {},
   "outputs": [],
   "source": [
    "az_E_kcal = convert_array(az_E, 1/(kcal/mol))\n",
    "az_F_kcal = convert_array(az_F, 1/(kcal/mol))"
   ]
  },
  {
   "cell_type": "code",
   "execution_count": 25,
   "metadata": {},
   "outputs": [],
   "source": [
    "az_E_shifted = az_E_kcal - np.mean(az_E_kcal)  # relative formation energies in kcal/mol\n",
    "save_npy(az_E_shifted, 'az_E_QM_kcal_mol.npy') \n",
    "save_npy(az_F_kcal, 'az_F_QM_kcal_mol_A.npy')\n",
    "save_npy(az_Z, 'az_Z.npy')\n",
    "save_npy(az_R, 'az_R.npy')\n",
    "save_npy(az_p, 'az_paths.npy')"
   ]
  },
  {
   "cell_type": "markdown",
   "metadata": {},
   "source": []
  },
  {
   "cell_type": "code",
   "execution_count": null,
   "metadata": {},
   "outputs": [],
   "source": [
    "ad_E, ad_F, ad_R, ad_Z, ad_p = parse_output('../../AD/thermal_MD_10k/', 'log', 'ase')"
   ]
  },
  {
   "cell_type": "code",
   "execution_count": null,
   "metadata": {},
   "outputs": [],
   "source": [
    "os.chdir('../AD/thermal_MD_10k')"
   ]
  },
  {
   "cell_type": "code",
   "execution_count": 30,
   "metadata": {},
   "outputs": [
    {
     "data": {
      "text/plain": [
       "'/vast/projects/ml4chem/NikitaFedik/DATA/ml-tps-ad-az/data/AD'"
      ]
     },
     "execution_count": 30,
     "metadata": {},
     "output_type": "execute_result"
    }
   ],
   "source": [
    "pwd"
   ]
  },
  {
   "cell_type": "code",
   "execution_count": 31,
   "metadata": {},
   "outputs": [],
   "source": [
    "ad_E_kcal = convert_array(ad_E, 1/(kcal/mol))\n",
    "ad_F_kcal = convert_array(ad_F, 1/(kcal/mol))"
   ]
  },
  {
   "cell_type": "code",
   "execution_count": 32,
   "metadata": {},
   "outputs": [],
   "source": [
    "ad_E_shifted = ad_E_kcal - np.mean(ad_E_kcal)  # relative formation energies in kcal/mol\n",
    "save_npy(ad_E_shifted, 'ad_E_QM_kcal_mol.npy') \n",
    "save_npy(ad_F_kcal, 'ad_F_QM_kcal_mol_A.npy')\n",
    "save_npy(ad_Z, 'ad_Z.npy')\n",
    "save_npy(ad_R, 'ad_R.npy')\n",
    "save_npy(ad_p, 'ad_paths.npy')"
   ]
  },
  {
   "cell_type": "code",
   "execution_count": 33,
   "metadata": {},
   "outputs": [
    {
     "data": {
      "text/plain": [
       "array([-7.92819498,  5.66827054,  8.72458429, ..., -1.1404432 ,\n",
       "        4.58517161,  2.59057314])"
      ]
     },
     "execution_count": 33,
     "metadata": {},
     "output_type": "execute_result"
    }
   ],
   "source": [
    "ad_E_shifted"
   ]
  },
  {
   "cell_type": "code",
   "execution_count": null,
   "metadata": {},
   "outputs": [],
   "source": []
  }
 ],
 "metadata": {
  "kernelspec": {
   "display_name": "qm",
   "language": "python",
   "name": "qm"
  },
  "orig_nbformat": 4
 },
 "nbformat": 4,
 "nbformat_minor": 2
}
