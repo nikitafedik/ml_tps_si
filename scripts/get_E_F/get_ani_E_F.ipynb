{
 "cells": [
  {
   "cell_type": "code",
   "execution_count": 1,
   "metadata": {},
   "outputs": [],
   "source": [
    "import os\n",
    "import torch\n",
    "import torchani\n",
    "import numpy as np\n",
    "\n",
    "from pathlib import Path\n",
    "from ase.units import Bohr, Hartree, eV, kcal, mol\n",
    "from ase.io import read as aseread\n"
   ]
  },
  {
   "cell_type": "code",
   "execution_count": 2,
   "metadata": {},
   "outputs": [],
   "source": [
    "def compute_ani_energy_and_forces(Z_path, R_path, device):\n",
    "    # Load your numpy arrays\n",
    "    Z = np.load(Z_path)  # Atomic numbers\n",
    "    R = np.load(R_path)  # Positions\n",
    "\n",
    "    # Convert numpy arrays to torch tensors\n",
    "    Z = torch.tensor(Z, dtype=torch.long)\n",
    "    R = torch.tensor(R, dtype=torch.float, requires_grad=True)\n",
    "\n",
    "    # Load pretrained ANI-1x model\n",
    "    model = torchani.models.ANI1x(periodic_table_index=True).to(device)\n",
    "\n",
    "    # Forward pass to compute energy\n",
    "    energy = model((Z, R)).energies\n",
    "    derivative = torch.autograd.grad(energy.sum(), R)[0]\n",
    "    force = -derivative\n",
    "\n",
    "    return energy, force\n"
   ]
  },
  {
   "cell_type": "code",
   "execution_count": 16,
   "metadata": {},
   "outputs": [
    {
     "data": {
      "text/plain": [
       "'/vast/projects/ml4chem/NikitaFedik/GITHUB/ml_tps_si'"
      ]
     },
     "execution_count": 16,
     "metadata": {},
     "output_type": "execute_result"
    }
   ],
   "source": [
    "pwd"
   ]
  },
  {
   "cell_type": "code",
   "execution_count": 17,
   "metadata": {},
   "outputs": [
    {
     "name": "stdout",
     "output_type": "stream",
     "text": [
      "ad_E_hippnts_kcal_mol.npy         ad_F_QM_kcal_mol_A.npy  ad_Z.npy\n",
      "ad_E_QM_kcal_mol.npy              ad_paths.npy            \u001b[0m\u001b[38;5;33mDFT-logs\u001b[0m/\n",
      "ad_forces_hippnts_kcal_mol_A.npy  ad_R.npy\n"
     ]
    }
   ],
   "source": [
    "ls data/AD/thermal_MD_10k"
   ]
  },
  {
   "cell_type": "code",
   "execution_count": 18,
   "metadata": {},
   "outputs": [],
   "source": [
    "data_path = Path(\"data/AD/thermal_MD_10k\")\n",
    "# Example usagez\n",
    "device = torch.device('cuda' if torch.cuda.is_available() else 'cpu')\n",
    "energy, force = compute_ani_energy_and_forces(data_path / 'ad_Z.npy', \n",
    "                                              data_path / 'ad_R.npy', device) \n",
    "# forces already have correct sign - see function above"
   ]
  },
  {
   "cell_type": "code",
   "execution_count": 19,
   "metadata": {},
   "outputs": [],
   "source": [
    "F_kcal = force * Hartree / (kcal / mol) # to kcal/mol/A using ASE units \n",
    "E_kcal = energy * Hartree / (kcal / mol)  # to kcal/mol using ASE units \n",
    "E_kcal_shifted = E_kcal - torch.mean(E_kcal) # substract mean energy to get relative formation E"
   ]
  },
  {
   "cell_type": "code",
   "execution_count": 20,
   "metadata": {},
   "outputs": [
    {
     "data": {
      "text/plain": [
       "tensor([-7.9467,  4.5633,  9.0879,  ..., -0.6979,  3.8325,  2.4054],\n",
       "       dtype=torch.float64, grad_fn=<SubBackward0>)"
      ]
     },
     "execution_count": 20,
     "metadata": {},
     "output_type": "execute_result"
    }
   ],
   "source": [
    "E_kcal_shifted\n"
   ]
  },
  {
   "cell_type": "code",
   "execution_count": 21,
   "metadata": {},
   "outputs": [],
   "source": [
    "np.save('data/AD/thermal_MD_10k/E_ani_kcal_mol.npy', E_kcal_shifted.detach().numpy())\n",
    "np.save('data/AD/thermal_MD_10k/forces_ani_kcal_mol_A.npy', F_kcal.detach().numpy())"
   ]
  },
  {
   "cell_type": "markdown",
   "metadata": {},
   "source": [
    "#### Azobenzene"
   ]
  },
  {
   "cell_type": "code",
   "execution_count": 22,
   "metadata": {},
   "outputs": [],
   "source": [
    "az_data_path = Path(\"data/AZ/thermal_MD_10k\")\n",
    "# Example usage\n",
    "device = torch.device('cuda' if torch.cuda.is_available() else 'cpu')\n",
    "az_energy, az_force = compute_ani_energy_and_forces(az_data_path / 'az_Z.npy', \n",
    "                                          az_data_path / 'az_R.npy', device)"
   ]
  },
  {
   "cell_type": "code",
   "execution_count": 23,
   "metadata": {},
   "outputs": [],
   "source": [
    "az_E_kcal = az_energy * Hartree / (kcal / mol)  # to kcal/mol using ASE units \n",
    "az_F_kcal = az_force * Hartree / (kcal / mol) # to kcal/mol/A using ASE units \n",
    "az_E_kcal_shifted = az_E_kcal - torch.mean(az_E_kcal) # substract mean energy to get relative formation E\n",
    "np.save('data/AZ/thermal_MD_10k/az_E_ani_kcal_mol.npy', az_E_kcal_shifted.detach().numpy())\n",
    "np.save('data/AZ/thermal_MD_10k/az_F_ani_kcal_mol_A.npy', az_F_kcal.detach().numpy())"
   ]
  },
  {
   "cell_type": "markdown",
   "metadata": {},
   "source": [
    "### Azobenzene - open shell rotation path"
   ]
  },
  {
   "cell_type": "code",
   "execution_count": null,
   "metadata": {},
   "outputs": [],
   "source": [
    "xyz_path = Path('data/AZ/os-rotation/AZ_os-DFT_rotation_path.xyz')\n",
    "atoms_list = aseread(xyz_path, index=\":\")"
   ]
  },
  {
   "cell_type": "code",
   "execution_count": 28,
   "metadata": {},
   "outputs": [],
   "source": [
    "# get all atomic position in shape N mol, N atoms, 3\n",
    "R = np.array([atoms.get_positions() for atoms in atoms_list])                                  "
   ]
  },
  {
   "cell_type": "code",
   "execution_count": 29,
   "metadata": {},
   "outputs": [],
   "source": [
    "# we can use structure to get the atomic numbers\n",
    "Z = atoms_list[0].get_atomic_numbers()\n",
    "Z = torch.Tensor(np.tile(Z, (R.shape[0], 1))) # repeat Z tensor"
   ]
  },
  {
   "cell_type": "code",
   "execution_count": 30,
   "metadata": {},
   "outputs": [
    {
     "data": {
      "text/plain": [
       "torch.Size([270, 24])"
      ]
     },
     "execution_count": 30,
     "metadata": {},
     "output_type": "execute_result"
    }
   ],
   "source": [
    "Z.shape"
   ]
  },
  {
   "cell_type": "code",
   "execution_count": 31,
   "metadata": {},
   "outputs": [
    {
     "data": {
      "text/plain": [
       "(270, 24, 3)"
      ]
     },
     "execution_count": 31,
     "metadata": {},
     "output_type": "execute_result"
    }
   ],
   "source": [
    "R.shape"
   ]
  },
  {
   "cell_type": "code",
   "execution_count": 33,
   "metadata": {},
   "outputs": [
    {
     "name": "stderr",
     "output_type": "stream",
     "text": [
      "/vast/home/fns/.conda/envs/qm/lib/python3.7/site-packages/ipykernel_launcher.py:1: UserWarning: To copy construct from a tensor, it is recommended to use sourceTensor.clone().detach() or sourceTensor.clone().detach().requires_grad_(True), rather than torch.tensor(sourceTensor).\n",
      "  \"\"\"Entry point for launching an IPython kernel.\n"
     ]
    }
   ],
   "source": [
    "Z = torch.tensor(Z, dtype=torch.long)\n",
    "R = torch.tensor(R, dtype=torch.float, requires_grad=True)"
   ]
  },
  {
   "cell_type": "code",
   "execution_count": 34,
   "metadata": {},
   "outputs": [],
   "source": [
    "device = torch.device('cuda' if torch.cuda.is_available() else 'cpu')\n",
    "\n",
    "# Forward pass to compute energy\n",
    "model = torchani.models.ANI1x(periodic_table_index=True).to(device)\n",
    "os_iso_E = model((Z, R)).energies\n",
    "os_iso_E_kcal = os_iso_E * Hartree / (kcal / mol)  # to kcal/mol using ASE units\n"
   ]
  },
  {
   "cell_type": "code",
   "execution_count": 35,
   "metadata": {},
   "outputs": [],
   "source": [
    "os_iso_E_kcal_shifted = os_iso_E_kcal - os_iso_E_kcal[0]"
   ]
  },
  {
   "cell_type": "code",
   "execution_count": 36,
   "metadata": {},
   "outputs": [],
   "source": [
    "np.save('data/AZ/os-rotation/os_iso_E_torchani_kcal_mol.npy', os_iso_E_kcal_shifted.detach().numpy())"
   ]
  },
  {
   "cell_type": "code",
   "execution_count": 38,
   "metadata": {},
   "outputs": [],
   "source": [
    "### Azobenzene -  closed shell inversion path"
   ]
  },
  {
   "cell_type": "code",
   "execution_count": 44,
   "metadata": {},
   "outputs": [
    {
     "name": "stderr",
     "output_type": "stream",
     "text": [
      "/vast/home/fns/.conda/envs/qm/lib/python3.7/site-packages/ipykernel_launcher.py:6: UserWarning: To copy construct from a tensor, it is recommended to use sourceTensor.clone().detach() or sourceTensor.clone().detach().requires_grad_(True), rather than torch.tensor(sourceTensor).\n",
      "  \n"
     ]
    }
   ],
   "source": [
    "cd_xyz_path = Path('data/AZ/cs-inversion/AZ_cs-DFT_inversion_path.xyz')\n",
    "cs_atoms_list = aseread(cd_xyz_path, index=\":\")\n",
    "    \n",
    "cs_Z = cs_atoms_list[0].get_atomic_numbers()\n",
    "cs_Z = torch.Tensor(np.tile(cs_Z, (cs_R.shape[0], 1))) # repeat cs_Z tensor\n",
    "cs_Z = torch.tensor(cs_Z, dtype=torch.long)\n",
    "\n",
    "cs_R = np.array([atoms.get_positions() for atoms in cs_atoms_list])  \n",
    "cs_R = torch.tensor(cs_R, dtype=torch.float, requires_grad=True)"
   ]
  },
  {
   "cell_type": "code",
   "execution_count": 49,
   "metadata": {},
   "outputs": [],
   "source": [
    "cs_iso_E = model((cs_Z, cs_R)).energies\n",
    "cs_iso_E_kcal = cs_iso_E * Hartree / (kcal / mol)  # to kcal/mol using ASE units\n",
    "cs_iso_E_kcal_shifted = cs_iso_E_kcal - cs_iso_E_kcal[0]"
   ]
  },
  {
   "cell_type": "code",
   "execution_count": 51,
   "metadata": {},
   "outputs": [],
   "source": [
    "np.save('data/AZ/cs-inversion/cs_inv_E_torchani_kcal_mol.npy', cs_iso_E_kcal_shifted.detach().numpy())"
   ]
  },
  {
   "cell_type": "code",
   "execution_count": null,
   "metadata": {},
   "outputs": [],
   "source": []
  }
 ],
 "metadata": {
  "kernelspec": {
   "display_name": "qm",
   "language": "python",
   "name": "qm"
  }
 },
 "nbformat": 4,
 "nbformat_minor": 2
}
