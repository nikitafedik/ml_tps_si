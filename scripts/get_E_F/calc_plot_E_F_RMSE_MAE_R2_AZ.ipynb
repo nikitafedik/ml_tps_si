{
 "cells": [
  {
   "cell_type": "code",
   "execution_count": 26,
   "metadata": {},
   "outputs": [
    {
     "ename": "ModuleNotFoundError",
     "evalue": "No module named 'seaborn'",
     "output_type": "error",
     "traceback": [
      "\u001b[0;31m---------------------------------------------------------------------------\u001b[0m",
      "\u001b[0;31mModuleNotFoundError\u001b[0m                       Traceback (most recent call last)",
      "Cell \u001b[0;32mIn[26], line 5\u001b[0m\n\u001b[1;32m      3\u001b[0m \u001b[38;5;28;01mimport\u001b[39;00m\u001b[38;5;250m \u001b[39m\u001b[38;5;21;01mmatplotlib\u001b[39;00m\u001b[38;5;21;01m.\u001b[39;00m\u001b[38;5;21;01mpyplot\u001b[39;00m\u001b[38;5;250m \u001b[39m\u001b[38;5;28;01mas\u001b[39;00m\u001b[38;5;250m \u001b[39m\u001b[38;5;21;01mplt\u001b[39;00m\n\u001b[1;32m      4\u001b[0m \u001b[38;5;28;01mfrom\u001b[39;00m\u001b[38;5;250m \u001b[39m\u001b[38;5;21;01mpathlib\u001b[39;00m\u001b[38;5;250m \u001b[39m\u001b[38;5;28;01mimport\u001b[39;00m Path\n\u001b[0;32m----> 5\u001b[0m \u001b[38;5;28;01mimport\u001b[39;00m\u001b[38;5;250m \u001b[39m\u001b[38;5;21;01mseaborn\u001b[39;00m\u001b[38;5;250m \u001b[39m\u001b[38;5;28;01mas\u001b[39;00m\u001b[38;5;250m \u001b[39m\u001b[38;5;21;01msns\u001b[39;00m\n\u001b[1;32m      6\u001b[0m \u001b[38;5;28;01mimport\u001b[39;00m\u001b[38;5;250m \u001b[39m\u001b[38;5;21;01mmpl_scatter_density\u001b[39;00m  \u001b[38;5;66;03m# This import registers the 'scatter_density' projection.\u001b[39;00m\n\u001b[1;32m      7\u001b[0m \u001b[38;5;28;01mfrom\u001b[39;00m\u001b[38;5;250m \u001b[39m\u001b[38;5;21;01mmatplotlib\u001b[39;00m\u001b[38;5;21;01m.\u001b[39;00m\u001b[38;5;21;01mcolors\u001b[39;00m\u001b[38;5;250m \u001b[39m\u001b[38;5;28;01mimport\u001b[39;00m LinearSegmentedColormap\n",
      "\u001b[0;31mModuleNotFoundError\u001b[0m: No module named 'seaborn'"
     ]
    }
   ],
   "source": [
    "import numpy as np\n",
    "from pathlib import Path\n",
    "import matplotlib.pyplot as plt\n",
    "from pathlib import Path\n",
    "import seaborn as sns\n",
    "import mpl_scatter_density  # This import registers the 'scatter_density' projection.\n",
    "from matplotlib.colors import LinearSegmentedColormap\n",
    "import numpy as np\n",
    "import matplotlib.pyplot as plt"
   ]
  },
  {
   "cell_type": "code",
   "execution_count": 3,
   "metadata": {},
   "outputs": [],
   "source": [
    "def calculate_rmse(predictions, targets):\n",
    "    \"\"\"\n",
    "    Calculate the Root Mean Square Error (RMSE) between predictions and targets.\n",
    "\n",
    "    Args:\n",
    "        predictions (np.ndarray): Predicted values.\n",
    "        targets (np.ndarray): True values.\n",
    "\n",
    "    Returns:\n",
    "        float: The RMSE value.\n",
    "    \"\"\"\n",
    "    return np.sqrt(((predictions - targets) ** 2).mean())\n",
    "\n",
    "def calculate_mae(predictions, targets):\n",
    "    \"\"\"\n",
    "    Calculate the Mean Absolute Error (MAE) between predictions and targets.\n",
    "\n",
    "    Args:\n",
    "        predictions (np.ndarray): Predicted values.\n",
    "        targets (np.ndarray): True values.\n",
    "\n",
    "    Returns:\n",
    "        float: The MAE value.\n",
    "    \"\"\"\n",
    "    return np.abs(predictions - targets).mean()\n",
    "\n",
    "def calculate_r2(predictions, targets):\n",
    "    \"\"\"\n",
    "    Calculate the R-squared (R²) between predictions and targets.\n",
    "\n",
    "    Args:\n",
    "        predictions (np.ndarray): Predicted values.\n",
    "        targets (np.ndarray): True values.\n",
    "\n",
    "    Returns:\n",
    "        float: The R² value.\n",
    "    \"\"\"\n",
    "    ss_res = np.sum((targets - predictions) ** 2)\n",
    "    ss_tot = np.sum((targets - np.mean(targets)) ** 2)\n",
    "    return 1 - (ss_res / ss_tot)\n"
   ]
  },
  {
   "cell_type": "code",
   "execution_count": 4,
   "metadata": {},
   "outputs": [],
   "source": [
    "def calculate_metrics_for_energies_and_forces(E_pred_npy, E_target_npy, force_pred_npy, force_target_npy, energy_plot_name, force_plot_name):\n",
    "    \"\"\"\n",
    "    Calculate RMSE, MAE, and R² for energies and forces from NPY arrays, produce separate\n",
    "    density correlation plots for energy and force, and save them as two different figures.\n",
    "\n",
    "    Args:\n",
    "    E_pred_npy (numpy.ndarray): Array containing predicted energies.\n",
    "    E_target_npy (numpy.ndarray): Array containing target energies.\n",
    "    force_pred_npy (numpy.ndarray): Array containing predicted forces.\n",
    "    force_target_npy (numpy.ndarray): Array containing target forces.\n",
    "    energy_plot_name (str): File name for saving the energy correlation plot.\n",
    "    force_plot_name (str): File name for saving the force correlation plot.\n",
    "\n",
    "    Returns:\n",
    "    tuple: (energy_rmse, energy_mae, energy_r2, force_rmse, force_mae, force_r2)\n",
    "    \"\"\"\n",
    "    # Compute metrics\n",
    "    energy_rmse = calculate_rmse(E_pred_npy, E_target_npy)\n",
    "    energy_mae = calculate_mae(E_pred_npy, E_target_npy)\n",
    "    energy_r2 = calculate_r2(E_pred_npy, E_target_npy)\n",
    "\n",
    "    force_rmse = calculate_rmse(force_pred_npy, force_target_npy)\n",
    "    force_mae = calculate_mae(force_pred_npy, force_target_npy)\n",
    "    force_r2 = calculate_r2(force_pred_npy, force_target_npy)\n",
    "\n",
    "    print(f\"Energy RMSE: {energy_rmse}\")\n",
    "    print(f\"Energy MAE: {energy_mae}\")\n",
    "    print(f\"Energy R²: {energy_r2}\")\n",
    "    print(f\"Force RMSE: {force_rmse}\")\n",
    "    print(f\"Force MAE: {force_mae}\")\n",
    "    print(f\"Force R²: {force_r2}\")\n",
    "\n",
    "    # Import required modules for plotting\n",
    "    import mpl_scatter_density # This registers the 'scatter_density' projection\n",
    "    from matplotlib.colors import LinearSegmentedColormap\n",
    "    import numpy as np\n",
    "    import matplotlib.pyplot as plt\n",
    "\n",
    "    # Define custom colormap\n",
    "    white_viridis = LinearSegmentedColormap.from_list('white_viridis', [\n",
    "        (0, '#ffffff'),\n",
    "        (1e-20, '#440053'),\n",
    "        (0.2, '#404388'),\n",
    "        (0.4, '#2a788e'),\n",
    "        (0.6, '#21a784'),\n",
    "        (0.8, '#78d151'),\n",
    "        (1, '#fde624'),\n",
    "    ], N=256)\n",
    "\n",
    "\n",
    "    def plot_density(X, Y, title, xlabel, ylabel, plot_name):\n",
    "        fig = plt.figure(figsize=(8, 8))\n",
    "        ax = fig.add_subplot(111, projection='scatter_density')\n",
    "        \n",
    "        # Determine the overall min and max for both X and Y\n",
    "        overall_min = min(np.min(X), np.min(Y))\n",
    "        overall_max = max(np.max(X), np.max(Y))\n",
    "        \n",
    "        # Set the same limits for both axes\n",
    "\n",
    "        \n",
    "        density = ax.scatter_density(X, Y, cmap=white_viridis, dpi=30)\n",
    "        ax.set_xlim(overall_min, overall_max)\n",
    "        ax.set_ylim(overall_min, overall_max)\n",
    "        \n",
    "        # Plot the diagonal line using the overall min and max\n",
    "        ax.plot([overall_min, overall_max], [overall_min, overall_max], 'r--', alpha=0.5, linewidth=2)\n",
    "        \n",
    "        ax.set_xlabel(xlabel)\n",
    "        ax.set_ylabel(ylabel)\n",
    "        ax.set_title(title)\n",
    "        ax.set_aspect('equal', adjustable='box')\n",
    "        \n",
    "        cbar = fig.colorbar(density, label='Number of points per pixel', shrink=0.8)\n",
    "        plt.tight_layout()\n",
    "        plt.savefig(plot_name, bbox_inches='tight', dpi=300)\n",
    "        plt.close(fig)\n",
    "\n",
    "    # Energy density correlation plot\n",
    "    plot_density(E_target_npy, E_pred_npy, 'Energy Density Correlation', \n",
    "                 'True Energies', 'Predicted Energies', energy_plot_name)\n",
    "\n",
    "    # Force density correlation plot\n",
    "    plot_density(force_target_npy, force_pred_npy, 'Force Density Correlation', \n",
    "                 'True Forces', 'Predicted Forces', force_plot_name)\n",
    "\n",
    "    return energy_rmse, energy_mae, energy_r2, force_rmse, force_mae, force_r2\n"
   ]
  },
  {
   "cell_type": "markdown",
   "metadata": {},
   "source": [
    "### 1) load arrays with data"
   ]
  },
  {
   "cell_type": "code",
   "execution_count": 6,
   "metadata": {},
   "outputs": [],
   "source": [
    "path_to_data = Path(\"data/AZ/thermal_MD_10k/\")\n",
    "\n",
    "#HIPNN data\n",
    "E_hippynn = np.load(path_to_data / 'az_E_hippynn_kcal_mol.npy')\n",
    "F_hippynn = np.load(path_to_data / 'az_F_hippynn_kcal_mol_A.npy')\n",
    "\n",
    "# QM (DFT data)\n",
    "E_QM = np.load(path_to_data / 'az_E_QM_kcal_mol.npy')\n",
    "F_QM = np.load(path_to_data / 'az_F_QM_kcal_mol_A.npy')\n",
    "\n",
    "# Torchani data\n",
    "E_ani = np.load(path_to_data / 'az_E_torchani_kcal_mol.npy')\n",
    "F_ani = np.load(path_to_data / 'az_F_torchani_kcal_mol_A.npy')\n",
    "\n",
    "# AMBER-14 data\n",
    "E_amber = np.load(path_to_data / 'az_E_amber_kcal_mol.npy')\n",
    "F_amber = np.load(path_to_data / 'az_F_amber_kcal_mol_A.npy')\n",
    "\n",
    "E_sage = np.load(path_to_data / 'az_E_sage_kcal_mol.npy')\n",
    "F_sage = np.load(path_to_data / 'az_F_sage_kcal_mol_A.npy')"
   ]
  },
  {
   "cell_type": "markdown",
   "metadata": {},
   "source": []
  },
  {
   "cell_type": "markdown",
   "metadata": {},
   "source": [
    "### Check that all energies are relative and make sense"
   ]
  },
  {
   "cell_type": "markdown",
   "metadata": {},
   "source": [
    "# azobenzene"
   ]
  },
  {
   "cell_type": "markdown",
   "metadata": {},
   "source": [
    "### Calculate MAE, RMSE and R² for all data arrays (ML vs QM, ML vs ML, FF vs FF etc)\n",
    "\n",
    "1) hippynn vs QM\n",
    "2) ani1x vs QM\n",
    "3) amber14 vs QM\n",
    "3) sage vs qm\n",
    "5) hippynn vs ani1x\n",
    "6) sage vs amber"
   ]
  },
  {
   "cell_type": "code",
   "execution_count": 7,
   "metadata": {},
   "outputs": [
    {
     "name": "stdout",
     "output_type": "stream",
     "text": [
      "/vast/projects/ml4chem/NikitaFedik/DATA/ml-tps-ad-az/data/AZ/thermal_MD_10k\n"
     ]
    }
   ],
   "source": [
    "cd data/AZ/thermal_MD_10k/"
   ]
  },
  {
   "cell_type": "code",
   "execution_count": 8,
   "metadata": {},
   "outputs": [
    {
     "name": "stdout",
     "output_type": "stream",
     "text": [
      "Energy RMSE: 0.9656671237943625\n",
      "Energy MAE: 0.7727854684553248\n",
      "Energy R²: 0.9839895143754854\n",
      "Force RMSE: 2.0369794633693763\n",
      "Force MAE: 1.3360739167707776\n",
      "Force R²: 0.9921067988620822\n"
     ]
    },
    {
     "name": "stderr",
     "output_type": "stream",
     "text": [
      "/vast/home/fns/.conda/envs/qm/lib/python3.7/site-packages/mpl_scatter_density/generic_density_artist.py:77: RuntimeWarning: All-NaN slice encountered\n",
      "  vmin = self._density_vmin(array)\n",
      "/vast/home/fns/.conda/envs/qm/lib/python3.7/site-packages/mpl_scatter_density/generic_density_artist.py:82: RuntimeWarning: All-NaN slice encountered\n",
      "  vmax = self._density_vmax(array)\n"
     ]
    },
    {
     "data": {
      "text/plain": [
       "(0.9656671237943625,\n",
       " 0.7727854684553248,\n",
       " 0.9839895143754854,\n",
       " 2.0369794633693763,\n",
       " 1.3360739167707776,\n",
       " 0.9921067988620822)"
      ]
     },
     "execution_count": 8,
     "metadata": {},
     "output_type": "execute_result"
    }
   ],
   "source": [
    "calculate_metrics_for_energies_and_forces(E_hippynn, \n",
    "                                          E_QM, \n",
    "                                          F_hippynn, \n",
    "                                          F_QM, \n",
    "                                          \"E - hippynn vs QM.png\",\n",
    "                                          \"F - hippynn vs QM.png\"\n",
    "                                          )\n"
   ]
  },
  {
   "cell_type": "code",
   "execution_count": 9,
   "metadata": {},
   "outputs": [
    {
     "name": "stdout",
     "output_type": "stream",
     "text": [
      "Energy RMSE: 1.726801857085822\n",
      "Energy MAE: 1.4391225564917316\n",
      "Energy R²: 0.9488041654433794\n",
      "Force RMSE: 5.071338804248245\n",
      "Force MAE: 2.944867483306301\n",
      "Force R²: 0.9510756437113436\n"
     ]
    },
    {
     "data": {
      "text/plain": [
       "(1.726801857085822,\n",
       " 1.4391225564917316,\n",
       " 0.9488041654433794,\n",
       " 5.071338804248245,\n",
       " 2.944867483306301,\n",
       " 0.9510756437113436)"
      ]
     },
     "execution_count": 9,
     "metadata": {},
     "output_type": "execute_result"
    }
   ],
   "source": [
    "calculate_metrics_for_energies_and_forces(E_ani, \n",
    "                                          E_QM, \n",
    "                                          F_ani,\n",
    "                                          F_QM, \n",
    "                                          \"E - ANI vs QM.png\", \n",
    "                                          \"F - ANI vs QM.png\"\n",
    "                                          )\n"
   ]
  },
  {
   "cell_type": "code",
   "execution_count": 10,
   "metadata": {},
   "outputs": [
    {
     "name": "stdout",
     "output_type": "stream",
     "text": [
      "Energy RMSE: 4.419304957436206\n",
      "Energy MAE: 3.5435198641630152\n",
      "Energy R²: 0.6646814683945835\n",
      "Force RMSE: 22.211120281178754\n",
      "Force MAE: 11.833300274406376\n",
      "Force R²: 0.06152912990638837\n"
     ]
    },
    {
     "data": {
      "text/plain": [
       "(4.419304957436206,\n",
       " 3.5435198641630152,\n",
       " 0.6646814683945835,\n",
       " 22.211120281178754,\n",
       " 11.833300274406376,\n",
       " 0.06152912990638837)"
      ]
     },
     "execution_count": 10,
     "metadata": {},
     "output_type": "execute_result"
    }
   ],
   "source": [
    "calculate_metrics_for_energies_and_forces(E_amber, \n",
    "                                          E_QM, \n",
    "                                          F_amber,\n",
    "                                          F_QM, \n",
    "                                          \"E - AMBER vs QM.png\", \n",
    "                                          \"F - AMBER vs QM.png\"\n",
    "                                          )"
   ]
  },
  {
   "cell_type": "code",
   "execution_count": 11,
   "metadata": {},
   "outputs": [
    {
     "name": "stdout",
     "output_type": "stream",
     "text": [
      "Energy RMSE: 3.386266226072238\n",
      "Energy MAE: 2.664944317074759\n",
      "Energy R²: 0.8031244379484879\n",
      "Force RMSE: 19.53807221842546\n",
      "Force MAE: 13.724532421944929\n",
      "Force R²: 0.2738216616614363\n"
     ]
    },
    {
     "data": {
      "text/plain": [
       "(3.386266226072238,\n",
       " 2.664944317074759,\n",
       " 0.8031244379484879,\n",
       " 19.53807221842546,\n",
       " 13.724532421944929,\n",
       " 0.2738216616614363)"
      ]
     },
     "execution_count": 11,
     "metadata": {},
     "output_type": "execute_result"
    }
   ],
   "source": [
    "calculate_metrics_for_energies_and_forces(E_sage, \n",
    "                                          E_QM, \n",
    "                                          F_sage,\n",
    "                                          F_QM, \n",
    "                                          \"E - SAGE vs QM.png\",\n",
    "                                          \"F - SAGE vs QM.png\"\n",
    "                                          )"
   ]
  },
  {
   "cell_type": "code",
   "execution_count": 12,
   "metadata": {},
   "outputs": [
    {
     "name": "stdout",
     "output_type": "stream",
     "text": [
      "Energy RMSE: 1.2675967708537021\n",
      "Energy MAE: 1.0099048850381769\n",
      "Energy R²: 0.968266964367811\n",
      "Force RMSE: 4.679064066971086\n",
      "Force MAE: 2.760894931517121\n",
      "Force R²: 0.9582806822249598\n"
     ]
    },
    {
     "data": {
      "text/plain": [
       "(1.2675967708537021,\n",
       " 1.0099048850381769,\n",
       " 0.968266964367811,\n",
       " 4.679064066971086,\n",
       " 2.760894931517121,\n",
       " 0.9582806822249598)"
      ]
     },
     "execution_count": 12,
     "metadata": {},
     "output_type": "execute_result"
    }
   ],
   "source": [
    "calculate_metrics_for_energies_and_forces(E_ani, \n",
    "                                          E_hippynn, \n",
    "                                          F_ani,\n",
    "                                          F_hippynn, \n",
    "                                          \"E - ANI vs HIPPN.png\",\n",
    "                                          \"F - ANI vs HIPPN.png\"\n",
    "                                          )"
   ]
  },
  {
   "cell_type": "code",
   "execution_count": 13,
   "metadata": {},
   "outputs": [
    {
     "name": "stdout",
     "output_type": "stream",
     "text": [
      "Energy RMSE: 3.0726373535774547\n",
      "Energy MAE: 2.476236434343668\n",
      "Energy R²: 0.7773327218059674\n",
      "Force RMSE: 16.74457134127208\n",
      "Force MAE: 11.648209567150543\n",
      "Force R²: 0.7121296408501689\n"
     ]
    },
    {
     "data": {
      "text/plain": [
       "(3.0726373535774547,\n",
       " 2.476236434343668,\n",
       " 0.7773327218059674,\n",
       " 16.74457134127208,\n",
       " 11.648209567150543,\n",
       " 0.7121296408501689)"
      ]
     },
     "execution_count": 13,
     "metadata": {},
     "output_type": "execute_result"
    }
   ],
   "source": [
    "calculate_metrics_for_energies_and_forces(E_sage, \n",
    "                                          E_amber, \n",
    "                                          F_sage,\n",
    "                                          F_amber, \n",
    "                                          \"E - SAGE vs AMBER.png\",\n",
    "                                          \"F - SAGE vs AMBER.png\"\n",
    "                                          )"
   ]
  },
  {
   "cell_type": "markdown",
   "metadata": {},
   "source": []
  }
 ],
 "metadata": {
  "kernelspec": {
   "display_name": "ff",
   "language": "python",
   "name": "ff"
  }
 },
 "nbformat": 4,
 "nbformat_minor": 2
}
