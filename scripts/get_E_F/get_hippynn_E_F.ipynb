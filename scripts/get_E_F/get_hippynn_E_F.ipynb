{
 "cells": [
  {
   "cell_type": "code",
   "execution_count": null,
   "id": "78be0ecf",
   "metadata": {},
   "outputs": [],
   "source": [
    "import os\n",
    "import torch\n",
    "import numpy as np\n",
    "\n",
    "from ase.io import read\n",
    "from ase.md.langevin import Langevin\n",
    "from ase.md.velocitydistribution import MaxwellBoltzmannDistribution\n",
    "from ase.io import Trajectory\n",
    "from ase import units\n",
    "from ase.io import read as aseread\n",
    "\n",
    "\n",
    "import hippynn\n",
    "from hippynn.experiment.serialization import load_model_from_cwd\n",
    "from hippynn.interfaces.ase_interface import HippynnCalculator\n",
    "from pathlib import Path"
   ]
  },
  {
   "cell_type": "code",
   "execution_count": 38,
   "id": "9188d8c5",
   "metadata": {},
   "outputs": [],
   "source": [
    "def calc_E_F(model_path, data_path, prefix, arrays=False, Z=None, R=None):\n",
    "\n",
    "    # Load the model\n",
    "    current_dir = os.getcwd() \n",
    "    os.chdir(model_path)\n",
    "    model = load_model_from_cwd(map_location=torch.device('cpu')) # CPU runs for small molecules usually faster\n",
    "    os.chdir(current_dir) \n",
    "    predictor = hippynn.graphs.Predictor.from_graph(model) \n",
    "    predictor.to(torch.float64)\n",
    "    if arrays == False:\n",
    "    # Load the molecule\n",
    "        Z = np.load(data_path / f'{prefix}Z.npy')  # Atomic numbers\n",
    "        R = np.load(data_path / f'{prefix}R.npy')  # Positions\n",
    "\n",
    "        # Convert numpy arrays to torch tensors\n",
    "        Z = torch.tensor(Z, dtype=torch.long)\n",
    "        R = torch.tensor(R, dtype=torch.float64)\n",
    "\n",
    "    else: \n",
    "        Z == torch.tensor(Z, dtype=torch.long)\n",
    "        R == torch.tensor(R, dtype=torch.float64)\n",
    "    # Forward pass to compute energy\n",
    "    results = predictor(Z=Z, R=R)\n",
    "\n",
    "    return results"
   ]
  },
  {
   "cell_type": "code",
   "execution_count": 7,
   "id": "98e204a7",
   "metadata": {},
   "outputs": [
    {
     "data": {
      "text/plain": [
       "'/vast/projects/ml4chem/NikitaFedik/GITHUB/ml_tps_si'"
      ]
     },
     "execution_count": 7,
     "metadata": {},
     "output_type": "execute_result"
    }
   ],
   "source": [
    "pwd"
   ]
  },
  {
   "cell_type": "markdown",
   "id": "dd87f075",
   "metadata": {},
   "source": [
    "## Alanine Dipeptide"
   ]
  },
  {
   "cell_type": "code",
   "execution_count": null,
   "id": "54a8492a",
   "metadata": {
    "lines_to_next_cell": 0
   },
   "outputs": [],
   "source": [
    "results = calc_E_F(\n",
    "    model_path=Path('models/hipnnts_data_ani1x_only_before_al_seed533257'),\n",
    "    data_path=Path('data/AD/thermal_MD_10k/'),\n",
    "    prefix='ad_'\n",
    "    )"
   ]
  },
  {
   "cell_type": "code",
   "execution_count": 17,
   "id": "a428d41c",
   "metadata": {
    "lines_to_next_cell": 0
   },
   "outputs": [],
   "source": [
    "E = results['T'].reshape(results['T'].shape[0]) #get E \n",
    "F = results['forces'] # this is actually gradients! (- force)\n",
    "F = -F # convert to atomic forces to match Gaussian output"
   ]
  },
  {
   "cell_type": "code",
   "execution_count": 18,
   "id": "25fa6592",
   "metadata": {},
   "outputs": [],
   "source": [
    "E_shifted = E - torch.mean(E) # remove any arbitrary shifts to get relative formation E in kcal/mol"
   ]
  },
  {
   "cell_type": "code",
   "execution_count": 19,
   "id": "3f28b6a5",
   "metadata": {},
   "outputs": [
    {
     "data": {
      "text/plain": [
       "tensor([-7.0238,  6.4016,  9.9858,  ...,  0.0295,  5.6417,  3.3694],\n",
       "       dtype=torch.float64)"
      ]
     },
     "execution_count": 19,
     "metadata": {},
     "output_type": "execute_result"
    }
   ],
   "source": [
    "# check that values make sense\n",
    "E_shifted"
   ]
  },
  {
   "cell_type": "code",
   "execution_count": 20,
   "id": "320ef9b5",
   "metadata": {
    "lines_to_next_cell": 0
   },
   "outputs": [],
   "source": [
    "np.save('data/AD/thermal_MD_10k/ad_E_hippnts_kcal_mol.npy', E_shifted.numpy())\n",
    "np.save('data/AD/thermal_MD_10k/ad_forces_hippnts_kcal_mol_A.npy', F.numpy())"
   ]
  },
  {
   "cell_type": "markdown",
   "id": "ea91aa4f",
   "metadata": {},
   "source": [
    "### Azobenzene"
   ]
  },
  {
   "cell_type": "code",
   "execution_count": 21,
   "id": "e1f65657",
   "metadata": {},
   "outputs": [],
   "source": [
    "az_results = calc_E_F(\n",
    "    model_path=Path('models/hipnnts_data_ani1x_only_before_al_seed533257'),\n",
    "    data_path=Path('data/AZ/thermal_MD_10k/'),\n",
    "    prefix='az_'\n",
    "    )"
   ]
  },
  {
   "cell_type": "code",
   "execution_count": 22,
   "id": "e13404e0",
   "metadata": {},
   "outputs": [],
   "source": [
    "E_az = az_results['T'].reshape(results['T'].shape[0]) #get E \n",
    "F_az = az_results['forces'] # this is actually gradients! (- force)\n",
    "F_az = -F_az # convert to atomic forces to match Gaussian output\n",
    "E_az_shifted = E_az - torch.mean(E_az) # remove any arbitrary shifts to get relative formation E in kcal/mol\n",
    "\n",
    "np.save('data/AZ/thermal_MD_10k/az_E_hippynn_kcal_mol.npy', E_az_shifted.numpy())  \n",
    "np.save('data/AZ/thermal_MD_10k/az_F_hippynn_kcal_mol_A.npy', F_az.numpy())\n"
   ]
  },
  {
   "cell_type": "markdown",
   "id": "a4fd59a2",
   "metadata": {},
   "source": [
    "#### cs-inversion"
   ]
  },
  {
   "cell_type": "code",
   "execution_count": 39,
   "id": "9fdf21a8",
   "metadata": {},
   "outputs": [
    {
     "name": "stderr",
     "output_type": "stream",
     "text": [
      "/vast/home/fns/.conda/envs/qm/lib/python3.7/site-packages/ipykernel_launcher.py:20: UserWarning: To copy construct from a tensor, it is recommended to use sourceTensor.clone().detach() or sourceTensor.clone().detach().requires_grad_(True), rather than torch.tensor(sourceTensor).\n",
      "/vast/home/fns/.conda/envs/qm/lib/python3.7/site-packages/ipykernel_launcher.py:21: UserWarning: To copy construct from a tensor, it is recommended to use sourceTensor.clone().detach() or sourceTensor.clone().detach().requires_grad_(True), rather than torch.tensor(sourceTensor).\n"
     ]
    }
   ],
   "source": [
    "cs_inv_xyz_path = Path('data/AZ/cs-inversion/AZ_cs-DFT_inversion_path.xyz')\n",
    "cs_inv_atoms_list = aseread(cs_inv_xyz_path, index=\":\")\n",
    "\n",
    "cs_inv_Z = torch.tensor([atoms.get_atomic_numbers() for atoms in cs_inv_atoms_list], dtype=torch.long)\n",
    "cs_inv_R = torch.stack([torch.tensor(atoms.get_positions(), dtype=torch.float64) for atoms in cs_inv_atoms_list])\n",
    "\n",
    "cs_inv_results = calc_E_F(('models/hipnnts_data_ani1x_only_before_al_seed533257'),  \n",
    "                          data_path = None,\n",
    "                          arrays=True,\n",
    "                          Z=cs_inv_Z, \n",
    "                          R=cs_inv_R, \n",
    "                          prefix='cs_inv_',)"
   ]
  },
  {
   "cell_type": "code",
   "execution_count": 48,
   "id": "906a3ab7",
   "metadata": {},
   "outputs": [],
   "source": [
    "cs_inv_E = cs_inv_results['T'].reshape(cs_inv_results['T'].shape[0], 1)\n",
    "cs_inv_F = cs_inv_results['forces'] # this is actually gradients! (- force)\n",
    "cs_inv_F = -cs_inv_F # convert to atomic forces to match Gaussian output\n",
    "cs_inv_E_shifted = cs_inv_E - torch.mean(cs_inv_E) # remove any arbitrary shifts to get relative formation E in kcal/mol\n",
    "np.save('data/AZ/cs-inversion/cs_inv_E_hippynn_kcal_mol.npy', cs_inv_E_shifted.numpy())\n",
    "# np.save('data/AZ/cs-inversion/cs_inv_F_hipnnts_kcal_mol_A.npy', cs_inv_F.numpy())"
   ]
  },
  {
   "cell_type": "markdown",
   "id": "23745658",
   "metadata": {},
   "source": []
  }
 ],
 "metadata": {
  "jupytext": {
   "cell_metadata_filter": "-all",
   "main_language": "python",
   "notebook_metadata_filter": "-all"
  },
  "kernelspec": {
   "display_name": "qm",
   "language": "python",
   "name": "qm"
  }
 },
 "nbformat": 4,
 "nbformat_minor": 5
}
