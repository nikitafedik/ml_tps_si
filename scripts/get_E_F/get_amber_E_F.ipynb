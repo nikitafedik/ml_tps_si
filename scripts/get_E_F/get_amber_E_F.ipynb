{
 "cells": [
  {
   "cell_type": "code",
   "execution_count": 2,
   "metadata": {},
   "outputs": [],
   "source": [
    "import numpy as np\n",
    "import io\n",
    "import os\n",
    "from tqdm import tqdm\n",
    "from pathlib import Path\n",
    "from natsort import natsorted \n",
    "import multiprocessing\n",
    "from multiprocessing import Pool, cpu_count\n",
    "\n",
    "from openmm.app import *\n",
    "from openmm import *\n",
    "from openmm.unit import *\n",
    "\n",
    "from openff.units.openmm import from_openmm\n",
    "from openff.units.openmm import to_openmm\n",
    "from openff.toolkit.topology import Molecule\n",
    "from openmmforcefields.generators import SMIRNOFFTemplateGenerator\n",
    "\n",
    "from ase.io import read as aseread\n",
    "from ase.io import write as asewrite\n",
    "from openbabel import pybel "
   ]
  },
  {
   "cell_type": "markdown",
   "metadata": {},
   "source": [
    " Amber FF could be used for small molecules when interfaced with OpenFF   \n",
    " See GAFF generator for more details\n"
   ]
  },
  {
   "cell_type": "code",
   "execution_count": 3,
   "metadata": {
    "notebookRunGroups": {
     "groupValue": "1"
    }
   },
   "outputs": [],
   "source": [
    "def get_amber_E_F(molecule, forcefield_xml, charge_scheme):\n",
    "    \"\"\"\n",
    "    Process a molecule to compute its potential energy using OpenMM.\n",
    "\n",
    "    Args:\n",
    "        molecule (Molecule): The OpenFF Molecule object.\n",
    "        forcefield_xml (str): The path to the force field XML file.\n",
    "        charge_scheme (str): The charge scheme to use (e.g., 'gasteiger').\n",
    "\n",
    "    Returns:\n",
    "        float: The potential energy of the molecule in kJ/mol.\n",
    "    \"\"\"\n",
    "    # Generate conformers and assign partial charges\n",
    "    # molecule.generate_conformers() - do NOT generate for single-point calculations\n",
    "    platform = Platform.getPlatformByName(\"CPU\")\n",
    "    molecule.assign_partial_charges(charge_scheme)\n",
    "    \n",
    "    \n",
    "    # Create an integrator and simulation\n",
    "    # Create the SMIRNOFF template generator\n",
    "    smirnoff = SMIRNOFFTemplateGenerator(molecules=molecule, )\n",
    "    \n",
    "    # Create an OpenMM ForceField object\n",
    "    forcefield = app.ForceField(forcefield_xml)\n",
    "    \n",
    "    # Register the SMIRNOFF template generator\n",
    "    forcefield.registerTemplateGenerator(smirnoff.generator)\n",
    "    \n",
    "    # Convert topology and positions to openmm format \n",
    "    topology = molecule.to_topology().to_openmm()\n",
    "    positions_in_nm = to_openmm(molecule.conformers[0])\n",
    "    \n",
    "    # Create the system\n",
    "    system = forcefield.createSystem(\n",
    "        topology=topology,\n",
    "        nonbondedMethod=app.NoCutoff,\n",
    "        constraints=None\n",
    "    )\n",
    "    \n",
    "    # Create an integrator and simulation\n",
    "    integrator = LangevinMiddleIntegrator(300*kelvin, 1/picosecond, 0.004*picoseconds)\n",
    "    simulation = Simulation(topology, system, integrator, platform)\n",
    "    simulation.context.setPositions(positions_in_nm)\n",
    "    \n",
    "    # Get the potential energy\n",
    "    state = simulation.context.getState(getEnergy=True, getForces=True)\n",
    "    potential_energy = state.getPotentialEnergy().value_in_unit(kilocalorie_per_mole)\n",
    "\n",
    "    # Extract atomic forces (convert to kcal/(mol·Å))\n",
    "    forces = state.getForces(asNumpy=True).value_in_unit(kilocalorie_per_mole / angstrom)\n",
    "    return potential_energy, np.array(forces)"
   ]
  },
  {
   "cell_type": "code",
   "execution_count": 4,
   "metadata": {},
   "outputs": [],
   "source": [
    "def worker(sdf_file):\n",
    "    molecule = Molecule.from_file(sdf_file, allow_undefined_stereo=True, file_format='sdf')\n",
    "    energy, forces = get_amber_E_F(molecule, 'amber14-all.xml', 'mmff94')\n",
    "    return sdf_file, energy, forces \n",
    "\n",
    "def parallel_process(sdf_files, N=32):\n",
    "    with Pool(processes=N) as pool: # set reasonable amount but LESS than all cores\n",
    "# Wrap the iterator with tqdm for a progress bar; pool.imap preserves order.\n",
    "        results = list(tqdm(pool.imap(worker, sdf_files), total=len(sdf_files)))\n",
    "    return results\n"
   ]
  },
  {
   "cell_type": "code",
   "execution_count": 5,
   "metadata": {},
   "outputs": [],
   "source": [
    "def create_sdf_batch(atoms_list, output_dir=None, bond_order_pair=None, new_bond_order=2):\n",
    "    \"\"\"\n",
    "    Convert a list of ASE Atoms objects into a list of in-memory SDF file-like objects.\n",
    "    Optionally save each SDF string to a file in the specified output directory.\n",
    "    Additionally, if a bond_order_pair is provided, modify the bond order between these\n",
    "    atoms using OpenBabel before generating the SDF.\n",
    "    \n",
    "    With simple command tool conversion or on-the-fly generation withoit fixing N=N bond, Sage potential from OpenFF produces:\n",
    "    >> The OpenFF Toolkit does not currently support parsing molecules with S- and P-block radicals. \n",
    "    >> Found 1 radical electrons on molecule [H]c1c([H])c([H])c([N][N]c2c([H])c([H])c([H])c([H])c2[H])c([H])c1[H].\n",
    "\n",
    "    text\n",
    "    On-the-fly conversion saves processing time when transferring data. Oftentimes, it is\n",
    "    unnecessary to keep SDF files on disk.\n",
    "\n",
    "    Args:\n",
    "        atoms_list (list): List of ASE Atoms objects.\n",
    "        output_dir (str, optional): Directory in which to save SDF files.\n",
    "        bond_order_pair (tuple, optional): A tuple (atom1_index, atom2_index) specifying the\n",
    "            pair of atoms whose bond order will be modified. Use 1-indexed positions (as required\n",
    "            by OpenBabel's OBMol.GetAtom method). If None, no bond order modifications are made.\n",
    "        new_bond_order (int, optional): The new bond order to set for the specified pair (default is 2).\n",
    "\n",
    "    Returns:\n",
    "        list: A list of io.BytesIO objects containing SDF data for each molecule.\n",
    "    \"\"\"\n",
    "    printed_message = False \n",
    "    sdf_list = []\n",
    "\n",
    "# Create the output directory if requested.\n",
    "    if output_dir is not None:\n",
    "        os.makedirs(output_dir, exist_ok=True)\n",
    "\n",
    "    for i, atoms in enumerate(atoms_list):\n",
    "    # Write the ASE Atoms object to an in-memory XYZ string.\n",
    "        xyz_buffer = io.StringIO()\n",
    "        asewrite(xyz_buffer, atoms, format=\"xyz\")\n",
    "        xyz_str = xyz_buffer.getvalue()\n",
    "\n",
    "        # Convert the XYZ string to a molecule using Pybel.\n",
    "        mol = pybel.readstring(\"xyz\", xyz_str)\n",
    "\n",
    "        # If a bond_order_pair is provided, fix the bond order.\n",
    "        if bond_order_pair is not None:\n",
    "            # Get the underlying OBMol structure.\n",
    "            obmol = mol.OBMol\n",
    "            obmol.ConnectTheDots()\n",
    "            obmol.PerceiveBondOrders()\n",
    "\n",
    "            # Retrieve the atoms using the provided (1-indexed) indices.\n",
    "            atom1 = obmol.GetAtom(bond_order_pair[0])\n",
    "            atom2 = obmol.GetAtom(bond_order_pair[1])\n",
    "            bond = obmol.GetBond(atom1, atom2)\n",
    "            bond = obmol.GetBond(obmol.GetAtom(bond_order_pair[0]), obmol.GetAtom(bond_order_pair[1]))\n",
    "    \n",
    "            if bond is None:\n",
    "                if not printed_message:\n",
    "                    print(f\"No bond found between atoms {bond_order_pair[0]} and {bond_order_pair[1]} in molecule {i}.\")\n",
    "                    printed_message = True  # Set the flag so that this message is printed only once.\n",
    "            else:\n",
    "                bond.SetBondOrder(new_bond_order)\n",
    "                if not printed_message:\n",
    "                    print(f\"Molecule {i}: Set bond order between atoms {bond_order_pair[0]} and {bond_order_pair[1]} to {new_bond_order}.\\n\")\n",
    "                    print('This message will be printed once, but all files will be modified.')\n",
    "                    printed_message = True  # Again, only print once.\n",
    "\n",
    "        # Write the molecule to an SDF string.\n",
    "        sdf_str = mol.write(\"sdf\")\n",
    "        sdf_bytes = sdf_str.encode(\"utf-8\")\n",
    "        sdf_buffer = io.BytesIO(sdf_bytes)\n",
    "        sdf_list.append(sdf_buffer)\n",
    "\n",
    "        # Optionally, save the SDF file to disk.\n",
    "        if output_dir is not None:\n",
    "            filename = os.path.join(output_dir, f\"molecule_{i}.sdf\")\n",
    "            with open(filename, \"w\") as f:\n",
    "                f.write(sdf_str)\n",
    "\n",
    "    return sdf_list"
   ]
  },
  {
   "cell_type": "code",
   "execution_count": 6,
   "metadata": {},
   "outputs": [],
   "source": [
    "def process_batch(atoms_list, N=32, bond_order_pair=None, new_bond_order=2):\n",
    "    \"\"\"\n",
    "    Process a batch of atoms to compute shifted energies and forces.\n",
    "    Parameters:\n",
    "    - atoms_list: List of atoms to process.\n",
    "    - N: Number of parallel processes.\n",
    "    - bond_order_pair: Optional parameter for bond order.\n",
    "    - new_bond_order: Optional parameter for new bond order.\n",
    "    \"\"\"\n",
    "    # Create SDF files from the list of atoms    \n",
    "    sdf_files = create_sdf_batch(atoms_list, bond_order_pair=bond_order_pair, new_bond_order=new_bond_order)\n",
    "    results = parallel_process(sdf_files, N=N)\n",
    "    \n",
    "    E_amber = [energy for _, energy, _ in results] #unpack energies from list of tuples\n",
    "    E_amber = np.array(E_amber)\n",
    "    E_amber_shifted = E_amber - np.mean(E_amber)\n",
    "    forces = np.array([force for _, _, force in results])\n",
    "\n",
    "    return E_amber_shifted, forces"
   ]
  },
  {
   "cell_type": "markdown",
   "metadata": {},
   "source": [
    "### Get single point energies for alanine dipeptide\n"
   ]
  },
  {
   "cell_type": "code",
   "execution_count": 7,
   "metadata": {},
   "outputs": [],
   "source": [
    "ad_path = Path('data/AD/thermal_MD_10k/DFT-logs')\n",
    "ad_atoms_list = [aseread(x) for x in natsorted(ad_path.iterdir()) if x.is_file() and x.suffix == '.log']"
   ]
  },
  {
   "cell_type": "code",
   "execution_count": 8,
   "metadata": {},
   "outputs": [
    {
     "name": "stderr",
     "output_type": "stream",
     "text": [
      "100%|███████████████████████████████████████████████████████████████████████| 10000/10000 [03:32<00:00, 47.04it/s]\n"
     ]
    }
   ],
   "source": [
    "ad_results = process_batch(ad_atoms_list, N=48)"
   ]
  },
  {
   "cell_type": "code",
   "execution_count": 9,
   "metadata": {},
   "outputs": [],
   "source": [
    "np.save('data/AD/thermal_MD_10k/ad_E_amber_kcal_mol.npy', ad_results[0])\n",
    "np.save('data/AD/thermal_MD_10k/ad_F_amber_kcal_mol_A.npy', ad_results[1])"
   ]
  },
  {
   "cell_type": "markdown",
   "metadata": {},
   "source": [
    "### Get single point energies for azobenzene\n"
   ]
  },
  {
   "cell_type": "code",
   "execution_count": 10,
   "metadata": {},
   "outputs": [],
   "source": [
    "az_path = Path('data/AZ/thermal_MD_10k/DFT-logs')\n",
    "az_atoms_list = [aseread(x) for x in natsorted(az_path.iterdir()) if x.is_file() and x.suffix == '.log']"
   ]
  },
  {
   "cell_type": "code",
   "execution_count": 11,
   "metadata": {},
   "outputs": [
    {
     "data": {
      "text/plain": [
       "10000"
      ]
     },
     "execution_count": 11,
     "metadata": {},
     "output_type": "execute_result"
    }
   ],
   "source": [
    "len(az_atoms_list)"
   ]
  },
  {
   "cell_type": "code",
   "execution_count": 12,
   "metadata": {},
   "outputs": [
    {
     "name": "stdout",
     "output_type": "stream",
     "text": [
      "Molecule 0: Set bond order between atoms 12 and 13 to 2.\n",
      "\n",
      "This message will be printed once, but all files will be modified.\n"
     ]
    },
    {
     "name": "stderr",
     "output_type": "stream",
     "text": [
      "100%|███████████████████████████████████████████████████████████████████████| 10000/10000 [03:43<00:00, 44.79it/s]\n"
     ]
    }
   ],
   "source": [
    "az_results = process_batch(az_atoms_list, N=48, bond_order_pair=(12, 13), new_bond_order=2)\n",
    "# you can always check atom ordeing in any DFT log: for example, langevin_300K_AZ-cis_frame_0000.log\n",
    "# openbabel starts indexing from 1 (not 0 like Python or ASE)"
   ]
  },
  {
   "cell_type": "code",
   "execution_count": 14,
   "metadata": {},
   "outputs": [
    {
     "data": {
      "text/plain": [
       "array([-16.55494802,  -4.90555354,  -5.30487768,   5.30358135,\n",
       "       -11.37924605,  -2.50679347,  -4.31165088,  -6.52711469,\n",
       "         0.27021311,  -0.867263  ])"
      ]
     },
     "execution_count": 14,
     "metadata": {},
     "output_type": "execute_result"
    }
   ],
   "source": [
    "az_results[0][:10]"
   ]
  },
  {
   "cell_type": "code",
   "execution_count": 15,
   "metadata": {},
   "outputs": [],
   "source": [
    "np.save('data/AZ/thermal_MD_10k/az_E_amber_kcal_mol.npy', az_results[0])\n",
    "np.save('data/AZ/thermal_MD_10k/az_F_amber_kcal_mol_A.npy', az_results[1])"
   ]
  },
  {
   "cell_type": "code",
   "execution_count": null,
   "metadata": {},
   "outputs": [],
   "source": [
    "### Get single point energies for azobenzene ISOMERIZATION paths"
   ]
  },
  {
   "cell_type": "code",
   "execution_count": 16,
   "metadata": {},
   "outputs": [],
   "source": [
    "cs_path = Path('data/AZ/cs-inversion/AZ_cs-DFT_inversion_path.xyz')\n",
    "cs_atoms_list = aseread(cs_path, index=\":\")"
   ]
  },
  {
   "cell_type": "code",
   "execution_count": 17,
   "metadata": {},
   "outputs": [
    {
     "data": {
      "text/plain": [
       "179"
      ]
     },
     "execution_count": 17,
     "metadata": {},
     "output_type": "execute_result"
    }
   ],
   "source": [
    "len(cs_atoms_list)"
   ]
  },
  {
   "cell_type": "code",
   "execution_count": 18,
   "metadata": {},
   "outputs": [
    {
     "name": "stdout",
     "output_type": "stream",
     "text": [
      "Molecule 0: Set bond order between atoms 12 and 13 to 2.\n",
      "\n",
      "This message will be printed once, but all files will be modified.\n"
     ]
    },
    {
     "name": "stderr",
     "output_type": "stream",
     "text": [
      "100%|███████████████████████████████████████████████████████████████████████████| 179/179 [00:06<00:00, 26.49it/s]\n"
     ]
    }
   ],
   "source": [
    "cs_iso_results = process_batch(cs_atoms_list, N=48, bond_order_pair=(12, 13), new_bond_order=2)\n",
    "# sae atom order as in DFT calculations above"
   ]
  },
  {
   "cell_type": "code",
   "execution_count": 19,
   "metadata": {},
   "outputs": [],
   "source": [
    "np.save('data/AZ/cs-inversion/cs_inv_E_amber_kcal_mol.npy', cs_iso_results[0])"
   ]
  },
  {
   "cell_type": "code",
   "execution_count": 22,
   "metadata": {},
   "outputs": [
    {
     "name": "stdout",
     "output_type": "stream",
     "text": [
      "270\n"
     ]
    }
   ],
   "source": [
    "# same exercise for inversion open-shell pathway\n",
    "os_path = Path('data/AZ/os-rotation/AZ_os-DFT_rotation_path.xyz')\n",
    "os_atoms_list = aseread(os_path, index=\":\")\n",
    "print(len(os_atoms_list))"
   ]
  },
  {
   "cell_type": "code",
   "execution_count": 24,
   "metadata": {},
   "outputs": [
    {
     "name": "stdout",
     "output_type": "stream",
     "text": [
      "Molecule 0: Set bond order between atoms 1 and 13 to 2.\n",
      "\n",
      "This message will be printed once, but all files will be modified.\n"
     ]
    },
    {
     "name": "stderr",
     "output_type": "stream",
     "text": [
      "100%|███████████████████████████████████████████████████████████████████████████| 270/270 [00:08<00:00, 31.39it/s]\n"
     ]
    }
   ],
   "source": [
    "os_results = process_batch(os_atoms_list, N=48, bond_order_pair=(1, 13), new_bond_order=2)\n",
    "# different order of atoms "
   ]
  },
  {
   "cell_type": "code",
   "execution_count": 25,
   "metadata": {},
   "outputs": [],
   "source": [
    "np.save('data/AZ/os-rotation/os_rot_E_amber_kcal_mol.npy', os_results[0])\n",
    "\n"
   ]
  },
  {
   "cell_type": "code",
   "execution_count": null,
   "metadata": {},
   "outputs": [],
   "source": []
  }
 ],
 "metadata": {
  "kernelspec": {
   "display_name": "qm",
   "language": "python",
   "name": "qm"
  }
 },
 "nbformat": 4,
 "nbformat_minor": 2
}
