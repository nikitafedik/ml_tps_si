{
 "cells": [
  {
   "cell_type": "code",
   "execution_count": 1,
   "metadata": {},
   "outputs": [],
   "source": [
    "import numpy as np\n",
    "from pathlib import Path\n",
    "import matplotlib.pyplot as plt\n",
    "from pathlib import Path\n",
    "import seaborn as sns\n",
    "import mpl_scatter_density  # This import registers the 'scatter_density' projection.\n",
    "from matplotlib.colors import LinearSegmentedColormap\n",
    "import numpy as np\n",
    "import matplotlib.pyplot as plt\n",
    "from matplotlib.ticker import MultipleLocator, FormatStrFormatter, MaxNLocator"
   ]
  },
  {
   "cell_type": "code",
   "execution_count": 2,
   "metadata": {},
   "outputs": [],
   "source": [
    "def calculate_rmse(predictions, targets):\n",
    "    \"\"\"\n",
    "    Calculate the Root Mean Square Error (RMSE) between predictions and targets.\n",
    "\n",
    "    Args:\n",
    "        predictions (np.ndarray): Predicted values.\n",
    "        targets (np.ndarray): True values.\n",
    "\n",
    "    Returns:\n",
    "        float: The RMSE value.\n",
    "    \"\"\"\n",
    "    return np.sqrt(((predictions - targets) ** 2).mean())\n",
    "\n",
    "def calculate_mae(predictions, targets):\n",
    "    \"\"\"\n",
    "    Calculate the Mean Absolute Error (MAE) between predictions and targets.\n",
    "\n",
    "    Args:\n",
    "        predictions (np.ndarray): Predicted values.\n",
    "        targets (np.ndarray): True values.\n",
    "\n",
    "    Returns:\n",
    "        float: The MAE value.\n",
    "    \"\"\"\n",
    "    return np.abs(predictions - targets).mean()\n",
    "\n",
    "def calculate_r2(predictions, targets):\n",
    "    \"\"\"\n",
    "    Calculate the R-squared (R²) between predictions and targets.\n",
    "\n",
    "    Args:\n",
    "        predictions (np.ndarray): Predicted values.\n",
    "        targets (np.ndarray): True values.\n",
    "\n",
    "    Returns:\n",
    "        float: The R² value.\n",
    "    \"\"\"\n",
    "    ss_res = np.sum((targets - predictions) ** 2)\n",
    "    ss_tot = np.sum((targets - np.mean(targets)) ** 2)\n",
    "    return 1 - (ss_res / ss_tot)\n"
   ]
  },
  {
   "cell_type": "code",
   "execution_count": 3,
   "metadata": {},
   "outputs": [],
   "source": [
    "import matplotlib.pyplot as plt\n",
    "import numpy as np\n",
    "from matplotlib.colors import LinearSegmentedColormap\n",
    "from matplotlib.ticker import MaxNLocator\n",
    "\n",
    "def plot_density(X, Y, title, xlabel, ylabel, plot_name, axis_limits):\n",
    "    # Define the custom white_viridis colormap.\n",
    "    white_viridis = LinearSegmentedColormap.from_list('white_viridis', [\n",
    "        (0, '#ffffff'),\n",
    "        (1e-20, '#440053'),\n",
    "        (0.2, '#404388'),\n",
    "        (0.4, '#2a788e'),\n",
    "        (0.6, '#21a784'),\n",
    "        (0.8, '#78d151'),\n",
    "        (1, '#fde624')\n",
    "    ], N=256)\n",
    "    \n",
    "    # Create the figure and main axis (with the special scatter_density projection).\n",
    "    # Reserve space on the right for an external colorbar.\n",
    "    fig, ax = plt.subplots(figsize=(8, 8), subplot_kw={'projection': 'scatter_density'})\n",
    "    fig.subplots_adjust(right=0.85)\n",
    "\n",
    "    # Use the fixed axis limits provided (defaults: (-30, 45))\n",
    "    low, high = axis_limits\n",
    "\n",
    "    # Force fixed limits BEFORE plotting (this may help the density projection)\n",
    "    ax.set_xlim(low, high)\n",
    "    ax.set_ylim(low, high)\n",
    "\n",
    "    # Plot the density scatter.\n",
    "    density = ax.scatter_density(X, Y, cmap=white_viridis, dpi=30)\n",
    "\n",
    "    # Re-apply fixed limits to override any autoscaling done by scatter_density.\n",
    "    ax.set_xlim(low, high)\n",
    "    ax.set_ylim(low, high)\n",
    "\n",
    "    # Force the data area to be strictly square.\n",
    "    # If available (Matplotlib >=3.3) use set_box_aspect; otherwise fall back.\n",
    "    try:\n",
    "        ax.set_box_aspect(1)\n",
    "    except AttributeError:\n",
    "        ax.set_aspect('equal', adjustable='box')\n",
    "\n",
    "    # Draw the diagonal line spanning the entire fixed range.\n",
    "    # Using data coordinates ensures the line goes from (low, low) to (high, high).\n",
    "    try:\n",
    "        ax.axline((low, low), slope=1, color='r', linestyle='--', linewidth=2)\n",
    "    except AttributeError:\n",
    "        ax.plot([low, high], [low, high], 'r--', linewidth=2)\n",
    "        # Use MaxNLocator to compute (roughly) 5 “nice” ticks based on the fixed limits.\n",
    "    tick_locator = MaxNLocator(nbins=5)\n",
    "    ticks = tick_locator.tick_values(low, high)\n",
    "    ax.set_xticks(ticks)\n",
    "    ax.set_yticks(ticks)\n",
    "    formatter = FormatStrFormatter('%g')\n",
    "    ax.xaxis.set_major_formatter(formatter)\n",
    "    ax.yaxis.set_major_formatter(formatter)\n",
    "\n",
    "    # Set axis labels and title.\n",
    "    ax.set_xlabel(xlabel)\n",
    "    ax.set_ylabel(ylabel)\n",
    "    ax.set_title(title)\n",
    "\n",
    "    # Make plot box lines thicker\n",
    "    ax.spines['top'].set_linewidth(3)\n",
    "    ax.spines['right'].set_linewidth(3)\n",
    "    ax.spines['bottom'].set_linewidth(3)\n",
    "    ax.spines['left'].set_linewidth(3)\n",
    "    ax.tick_params(axis='both', which='major', length=8, width=2)\n",
    "    # ax.tick_params(axis='both', which='minor', length=7, width=2)\n",
    "    # Make ticks longer and thicker\n",
    "\n",
    "\n",
    "    # Add an external colorbar whose height exactly matches the data area.\n",
    "\n",
    "    pos = ax.get_position()  # [left, bottom, width, height] in figure coordinates.\n",
    "    cbar_gap   = 0.02  # gap between main plot and colorbar (figure fraction)\n",
    "    cbar_width = 0.03  # width of the colorbar (figure fraction)\n",
    "    cbar_ax = fig.add_axes([pos.x1 + cbar_gap, pos.y0, cbar_width, pos.height])\n",
    "    cbar = fig.colorbar(density, cax=cbar_ax)\n",
    "    cbar.ax.tick_params(width=2, length=8)\n",
    "    cbar.set_label('Number of points per pixel')\n",
    "\n",
    "    # Make colorbar outline and ticks thicker\n",
    "    cbar.outline.set_linewidth(3)\n",
    "    \n",
    "\n",
    "    # Save the final figure and close.\n",
    "    plt.savefig(plot_name, bbox_inches='tight', dpi=300)\n",
    "    plt.close(fig)"
   ]
  },
  {
   "cell_type": "code",
   "execution_count": 4,
   "metadata": {},
   "outputs": [],
   "source": [
    "def calculate_metrics_for_energies_and_forces(E_pred_npy, E_target_npy, force_pred_npy, force_target_npy, energy_plot_name, force_plot_name):\n",
    "    \"\"\"\n",
    "    Calculate RMSE, MAE, and R² for energies and forces from NPY arrays, produce separate\n",
    "    density correlation plots for energy and force, and save them as two different figures.\n",
    "\n",
    "    Args:\n",
    "    E_pred_npy (numpy.ndarray): Array containing predicted energies.\n",
    "    E_target_npy (numpy.ndarray): Array containing target energies.\n",
    "    force_pred_npy (numpy.ndarray): Array containing predicted forces.\n",
    "    force_target_npy (numpy.ndarray): Array containing target forces.\n",
    "    energy_plot_name (str): File name for saving the energy correlation plot.\n",
    "    force_plot_name (str): File name for saving the force correlation plot.\n",
    "\n",
    "    Returns:\n",
    "    tuple: (energy_rmse, energy_mae, energy_r2, force_rmse, force_mae, force_r2)\n",
    "    \"\"\"\n",
    "    # Compute metrics\n",
    "    energy_rmse = calculate_rmse(E_pred_npy, E_target_npy)\n",
    "    energy_mae = calculate_mae(E_pred_npy, E_target_npy)\n",
    "    energy_r2 = calculate_r2(E_pred_npy, E_target_npy)\n",
    "\n",
    "    force_rmse = calculate_rmse(force_pred_npy, force_target_npy)\n",
    "    force_mae = calculate_mae(force_pred_npy, force_target_npy)\n",
    "    force_r2 = calculate_r2(force_pred_npy, force_target_npy)\n",
    "\n",
    "    print(f\"Energy RMSE: {energy_rmse}\")\n",
    "    print(f\"Energy MAE: {energy_mae}\")\n",
    "    print(f\"Energy R²: {energy_r2}\")\n",
    "    print(f\"Force RMSE: {force_rmse}\")\n",
    "    print(f\"Force MAE: {force_mae}\")\n",
    "    print(f\"Force R²: {force_r2}\")\n",
    "\n",
    "    # Import required modules for plotting\n",
    "    import mpl_scatter_density # This registers the 'scatter_density' projection\n",
    "    from matplotlib.colors import LinearSegmentedColormap\n",
    "    import numpy as np\n",
    "    import matplotlib.pyplot as plt\n",
    "\n",
    "    # Define custom colormap\n",
    "\n",
    "    # Energy density correlation plot\n",
    "    plot_density(E_target_npy, E_pred_npy, 'Energy Density Correlation', \n",
    "                 'True Energies', 'Predicted Energies', energy_plot_name, axis_limits=(-20, 20))\n",
    "\n",
    "    # Force density correlation plot\n",
    "    plot_density(force_target_npy, force_pred_npy, 'Force Density Correlation', \n",
    "                 'True Forces', 'Predicted Forces', force_plot_name, axis_limits=(-100, 100))\n",
    "\n",
    "    return energy_rmse, energy_mae, energy_r2, force_rmse, force_mae, force_r2\n"
   ]
  },
  {
   "cell_type": "markdown",
   "metadata": {},
   "source": [
    "#### 1) load arrays with AD data"
   ]
  },
  {
   "cell_type": "code",
   "execution_count": 12,
   "metadata": {},
   "outputs": [],
   "source": [
    "path_to_data = Path(\"data/AD/thermal_MD_10k\")\n",
    "\n",
    "#HIPNN data\n",
    "E_hippynn = np.load(path_to_data / 'ad_E_hippynn_kcal_mol.npy')\n",
    "F_hippynn = np.load(path_to_data / 'ad_F_hippynn_kcal_mol_A.npy')\n",
    "\n",
    "# QM (DFT data)\n",
    "E_QM = np.load(path_to_data / 'ad_E_QM_kcal_mol.npy')\n",
    "F_QM = np.load(path_to_data / 'ad_F_QM_kcal_mol_A.npy')\n",
    "\n",
    "# Torchani data\n",
    "E_ani = np.load(path_to_data / 'ad_E_torchani_kcal_mol.npy')\n",
    "F_ani = np.load(path_to_data / 'ad_F_torchani_kcal_mol_A.npy')\n",
    "\n",
    "# AMBER-14 data\n",
    "E_amber = np.load(path_to_data / 'ad_E_amber_kcal_mol.npy')\n",
    "F_amber = np.load(path_to_data / 'ad_F_amber_kcal_mol_A.npy')\n",
    "\n",
    "E_sage = np.load(path_to_data / 'ad_E_sage_kcal_mol.npy')\n",
    "F_sage = np.load(path_to_data / 'ad_F_sage_kcal_mol_A.npy')"
   ]
  },
  {
   "cell_type": "markdown",
   "metadata": {},
   "source": []
  },
  {
   "cell_type": "markdown",
   "metadata": {},
   "source": [
    "#### 2) Check that all energies are relative and make sense"
   ]
  },
  {
   "cell_type": "code",
   "execution_count": 13,
   "metadata": {},
   "outputs": [
    {
     "data": {
      "text/plain": [
       "array([-7.02381591,  6.40162057,  9.98584577, ...,  0.02945462,\n",
       "        5.6417183 ,  3.36939794])"
      ]
     },
     "execution_count": 13,
     "metadata": {},
     "output_type": "execute_result"
    }
   ],
   "source": [
    "E_hippynn"
   ]
  },
  {
   "cell_type": "code",
   "execution_count": 16,
   "metadata": {},
   "outputs": [
    {
     "data": {
      "text/plain": [
       "array([-7.94667023,  4.56330896,  9.08792428, ..., -0.69785468,\n",
       "        3.83245517,  2.40544772])"
      ]
     },
     "execution_count": 16,
     "metadata": {},
     "output_type": "execute_result"
    }
   ],
   "source": [
    "E_ani"
   ]
  },
  {
   "cell_type": "code",
   "execution_count": 18,
   "metadata": {},
   "outputs": [
    {
     "data": {
      "text/plain": [
       "array([-8.71370626,  5.63151488,  8.36693758, ...,  0.73437764,\n",
       "        7.95960959,  7.91668771])"
      ]
     },
     "execution_count": 18,
     "metadata": {},
     "output_type": "execute_result"
    }
   ],
   "source": [
    "E_sage"
   ]
  },
  {
   "cell_type": "markdown",
   "metadata": {},
   "source": [
    "# alanine dipeptide "
   ]
  },
  {
   "cell_type": "markdown",
   "metadata": {},
   "source": [
    "### Calculate MAE, RMSE and R² for all data arrays (ML vs QM, ML vs ML, FF vs FF etc)\n",
    "\n",
    "1) hippynn vs QM\n",
    "2) ani1x vs QM\n",
    "3) amber14 vs QM\n",
    "3) sage vs qm\n",
    "5) hippynn vs ani1x\n",
    "6) sage vs amber"
   ]
  },
  {
   "cell_type": "code",
   "execution_count": 19,
   "metadata": {},
   "outputs": [
    {
     "name": "stdout",
     "output_type": "stream",
     "text": [
      "/vast/projects/ml4chem/NikitaFedik/DATA/ml-tps-ad-az/data/AD/thermal_MD_10k\n"
     ]
    }
   ],
   "source": [
    "cd data/AD/thermal_MD_10k/"
   ]
  },
  {
   "cell_type": "code",
   "execution_count": 21,
   "metadata": {},
   "outputs": [
    {
     "name": "stdout",
     "output_type": "stream",
     "text": [
      "Energy RMSE: 0.7213936941053319\n",
      "Energy MAE: 0.601858551956262\n",
      "Energy R²: 0.9836636588045312\n",
      "Force RMSE: 1.1427880552625351\n",
      "Force MAE: 0.8016578102236134\n",
      "Force R²: 0.9972808720014851\n"
     ]
    },
    {
     "data": {
      "text/plain": [
       "(0.7213936941053319,\n",
       " 0.601858551956262,\n",
       " 0.9836636588045312,\n",
       " 1.1427880552625351,\n",
       " 0.8016578102236134,\n",
       " 0.9972808720014851)"
      ]
     },
     "execution_count": 21,
     "metadata": {},
     "output_type": "execute_result"
    }
   ],
   "source": [
    "calculate_metrics_for_energies_and_forces(E_hippynn, \n",
    "                                          E_QM, \n",
    "                                          F_hippynn, \n",
    "                                          F_QM, \n",
    "                                          \"E - hippynn vs QM.png\",\n",
    "                                          \"F - hippynn vs QM.png\"\n",
    "                                          )\n"
   ]
  },
  {
   "cell_type": "code",
   "execution_count": 22,
   "metadata": {},
   "outputs": [
    {
     "name": "stdout",
     "output_type": "stream",
     "text": [
      "Energy RMSE: 0.7936402518211633\n",
      "Energy MAE: 0.6284503373053274\n",
      "Energy R²: 0.9802276866540939\n",
      "Force RMSE: 2.73560082473229\n",
      "Force MAE: 1.9143588289415634\n",
      "Force R²: 0.9844186989404786\n"
     ]
    },
    {
     "data": {
      "text/plain": [
       "(0.7936402518211633,\n",
       " 0.6284503373053274,\n",
       " 0.9802276866540939,\n",
       " 2.73560082473229,\n",
       " 1.9143588289415634,\n",
       " 0.9844186989404786)"
      ]
     },
     "execution_count": 22,
     "metadata": {},
     "output_type": "execute_result"
    }
   ],
   "source": [
    "calculate_metrics_for_energies_and_forces(E_ani, \n",
    "                                          E_QM, \n",
    "                                          F_ani,\n",
    "                                          F_QM, \n",
    "                                          \"E - ANI vs QM.png\", \n",
    "                                          \"F - ANI vs QM.png\"\n",
    "                                          )\n"
   ]
  },
  {
   "cell_type": "code",
   "execution_count": 23,
   "metadata": {},
   "outputs": [
    {
     "name": "stdout",
     "output_type": "stream",
     "text": [
      "Energy RMSE: 3.666025333192128\n",
      "Energy MAE: 2.8579214816631735\n",
      "Energy R²: 0.5781082476130772\n",
      "Force RMSE: 11.574142670604223\n",
      "Force MAE: 7.925241230060404\n",
      "Force R²: 0.7210823933297708\n"
     ]
    },
    {
     "data": {
      "text/plain": [
       "(3.666025333192128,\n",
       " 2.8579214816631735,\n",
       " 0.5781082476130772,\n",
       " 11.574142670604223,\n",
       " 7.925241230060404,\n",
       " 0.7210823933297708)"
      ]
     },
     "execution_count": 23,
     "metadata": {},
     "output_type": "execute_result"
    }
   ],
   "source": [
    "calculate_metrics_for_energies_and_forces(E_amber, \n",
    "                                          E_QM, \n",
    "                                          F_amber,\n",
    "                                          F_QM, \n",
    "                                          \"E - AMBER vs QM.png\", \n",
    "                                          \"F - AMBER vs QM.png\"\n",
    "                                          )"
   ]
  },
  {
   "cell_type": "code",
   "execution_count": 24,
   "metadata": {},
   "outputs": [
    {
     "name": "stdout",
     "output_type": "stream",
     "text": [
      "Energy RMSE: 3.8626893750419335\n",
      "Energy MAE: 3.0239076443407606\n",
      "Energy R²: 0.531629339942961\n",
      "Force RMSE: 18.463967610942618\n",
      "Force MAE: 13.461596405164078\n",
      "Force R²: 0.29017984571494293\n"
     ]
    },
    {
     "data": {
      "text/plain": [
       "(3.8626893750419335,\n",
       " 3.0239076443407606,\n",
       " 0.531629339942961,\n",
       " 18.463967610942618,\n",
       " 13.461596405164078,\n",
       " 0.29017984571494293)"
      ]
     },
     "execution_count": 24,
     "metadata": {},
     "output_type": "execute_result"
    }
   ],
   "source": [
    "calculate_metrics_for_energies_and_forces(E_sage, \n",
    "                                          E_QM, \n",
    "                                          F_sage,\n",
    "                                          F_QM, \n",
    "                                          \"E - SAGE vs QM.png\",\n",
    "                                          \"F - SAGE vs QM.png\"\n",
    "                                          )"
   ]
  },
  {
   "cell_type": "code",
   "execution_count": 25,
   "metadata": {},
   "outputs": [
    {
     "name": "stdout",
     "output_type": "stream",
     "text": [
      "Energy RMSE: 1.027208666606758\n",
      "Energy MAE: 0.8338911678763193\n",
      "Energy R²: 0.970677078869283\n",
      "Force RMSE: 2.7693284872075536\n",
      "Force MAE: 1.9073441372702316\n",
      "Force R²: 0.9840398362163625\n"
     ]
    },
    {
     "data": {
      "text/plain": [
       "(1.027208666606758,\n",
       " 0.8338911678763193,\n",
       " 0.970677078869283,\n",
       " 2.7693284872075536,\n",
       " 1.9073441372702316,\n",
       " 0.9840398362163625)"
      ]
     },
     "execution_count": 25,
     "metadata": {},
     "output_type": "execute_result"
    }
   ],
   "source": [
    "calculate_metrics_for_energies_and_forces(E_ani, \n",
    "                                          E_hippynn, \n",
    "                                          F_ani,\n",
    "                                          F_hippynn, \n",
    "                                          \"E - ANI vs HIPPN.png\",\n",
    "                                          \"F - ANI vs HIPPN.png\"\n",
    "                                          )"
   ]
  },
  {
   "cell_type": "code",
   "execution_count": 26,
   "metadata": {},
   "outputs": [
    {
     "name": "stdout",
     "output_type": "stream",
     "text": [
      "Energy RMSE: 2.2882505398714583\n",
      "Energy MAE: 1.8113194674184225\n",
      "Energy R²: 0.8884857816757292\n",
      "Force RMSE: 15.274210535993536\n",
      "Force MAE: 10.674600473383975\n",
      "Force R²: 0.5714468769533771\n"
     ]
    },
    {
     "data": {
      "text/plain": [
       "(2.2882505398714583,\n",
       " 1.8113194674184225,\n",
       " 0.8884857816757292,\n",
       " 15.274210535993536,\n",
       " 10.674600473383975,\n",
       " 0.5714468769533771)"
      ]
     },
     "execution_count": 26,
     "metadata": {},
     "output_type": "execute_result"
    }
   ],
   "source": [
    "calculate_metrics_for_energies_and_forces(E_sage, \n",
    "                                          E_amber, \n",
    "                                          F_sage,\n",
    "                                          F_amber, \n",
    "                                          \"E - SAGE vs AMBER.png\",\n",
    "                                          \"F - SAGE vs AMBER.png\"\n",
    "                                          )"
   ]
  }
 ],
 "metadata": {
  "kernelspec": {
   "display_name": "qm",
   "language": "python",
   "name": "qm"
  },
  "language_info": {
   "codemirror_mode": {
    "name": "ipython",
    "version": 3
   },
   "file_extension": ".py",
   "mimetype": "text/x-python",
   "name": "python",
   "nbconvert_exporter": "python",
   "pygments_lexer": "ipython3",
   "version": "3.7.12"
  }
 },
 "nbformat": 4,
 "nbformat_minor": 2
}
