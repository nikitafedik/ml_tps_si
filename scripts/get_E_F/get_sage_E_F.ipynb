{
 "cells": [
  {
   "cell_type": "code",
   "execution_count": 30,
   "metadata": {},
   "outputs": [],
   "source": [
    "from pathlib import Path\n",
    "from tqdm import tqdm\n",
    "from natsort import natsorted\n",
    "import numpy as np\n",
    "import io\n",
    "import os\n",
    "\n",
    "from openff.toolkit.topology import Molecule\n",
    "from openff.toolkit.typing.engines.smirnoff import ForceField\n",
    "from openff.interchange import Interchange\n",
    "from openff.interchange.drivers import get_openmm_energies\n",
    "from openff.units.openmm import to_openmm\n",
    "\n",
    "from openmm.unit import *\n",
    "\n",
    "import multiprocessing\n",
    "from multiprocessing import Pool, cpu_count\n",
    "\n",
    "from ase.io import read as aseread\n",
    "from ase.io import write as asewrite\n",
    "from openbabel import pybel "
   ]
  },
  {
   "cell_type": "markdown",
   "metadata": {},
   "source": [
    " Sage FF could be used for small molecules when interfaced with OpenFF   \n",
    " See Sage generator for more details\n"
   ]
  },
  {
   "cell_type": "code",
   "execution_count": 31,
   "metadata": {},
   "outputs": [],
   "source": [
    "from openff.toolkit import ForceField\n",
    "from openff.interchange import Interchange\n",
    "from openff.interchange.drivers.openmm import get_openmm_energies\n",
    "\n",
    "def get_sage_E_F(molecule, forcefield_xml, charge_scheme):\n",
    "    \"\"\"\n",
    "    Process a molecule to compute its potential energy and atomic forces \n",
    "    using OpenMM via the OpenFF Interchange workflow.\n",
    "\n",
    "    Args:\n",
    "        molecule (Molecule): The OpenFF Molecule object.\n",
    "        forcefield_xml (str): The path to the force field XML file.\n",
    "        charge_scheme (str): The charge scheme to use (e.g., 'gasteiger').\n",
    "\n",
    "    Returns:\n",
    "        tuple: A tuple containing:\n",
    "            float: The potential energy of the molecule in kcal/mol.\n",
    "            np.ndarray: The atomic forces in kcal/mol/angstrom.\n",
    "    \"\"\"\n",
    "    # Assign charges and create force field and topology.\n",
    "    molecule.assign_partial_charges(charge_scheme)\n",
    "    force_field = ForceField(forcefield_xml)\n",
    "    topology = molecule.to_topology()\n",
    "\n",
    "    # Build an Interchange object from the SMIRNOFF force field.\n",
    "    interchange = Interchange.from_smirnoff(\n",
    "        force_field=force_field,\n",
    "        topology=topology,\n",
    "        charge_from_molecules=[molecule]\n",
    "    )\n",
    "    interchange.positions = molecule.conformers[0]\n",
    "\n",
    "    # Compute the energy using OpenFF's OpenMM energy driver.\n",
    "    energies = get_openmm_energies(interchange)\n",
    "    energy = energies.total_energy.m_as(\"kilocalorie/mole\")\n",
    "\n",
    "    # Convert the Interchange object to an OpenMM system.\n",
    "    openmm_system = interchange.to_openmm(combine_nonbonded_forces=True)\n",
    "\n",
    "    # Convert the OpenFF topology into an OpenMM Topology.\n",
    "    omm_topology = interchange.topology.to_openmm()\n",
    "    positions_in_nm = to_openmm(molecule.conformers[0])\n",
    "\n",
    "    # Set up a minimal OpenMM simulation to obtain forces.\n",
    "    from openmm import Platform, VerletIntegrator, unit\n",
    "    from openmm.app import Simulation\n",
    "\n",
    "    platform = Platform.getPlatformByName(\"Reference\")\n",
    "    integrator = VerletIntegrator(1.0 * unit.femtosecond)\n",
    "    simulation = Simulation(omm_topology, openmm_system, integrator, platform)\n",
    "    simulation.context.setPositions(positions_in_nm)\n",
    "\n",
    "    # Retrieve the state including forces.\n",
    "    state = simulation.context.getState(getEnergy=True, getForces=True)\n",
    "    forces = state.getForces(asNumpy=True).value_in_unit(kilocalorie_per_mole / angstrom)\n",
    "\n",
    "    # Convert forces to kcal/mol/angstrom.\n",
    "    return energy, forces\n"
   ]
  },
  {
   "cell_type": "code",
   "execution_count": 32,
   "metadata": {},
   "outputs": [],
   "source": [
    "def worker(sdf_file):\n",
    "    molecule = Molecule.from_file(sdf_file, allow_undefined_stereo=True, file_format='sdf')\n",
    "    energy = get_sage_E_F(molecule, 'openff-2.0.0.offxml', 'mmff94')\n",
    "    return sdf_file, energy\n",
    "\n",
    "def parallel_process(sdf_files, N):\n",
    "    with Pool(processes=N) as pool: # set accordingly to #cores on your machine\n",
    "        results = list(tqdm(pool.imap(worker, sdf_files), total=len(sdf_files)))\n",
    "    return results"
   ]
  },
  {
   "cell_type": "code",
   "execution_count": 33,
   "metadata": {},
   "outputs": [],
   "source": [
    "def create_sdf_batch(atoms_list, output_dir=None, bond_order_pair=None, new_bond_order=2):\n",
    "    \"\"\"\n",
    "    Convert a list of ASE Atoms objects into a list of in-memory SDF file-like objects.\n",
    "    Optionally save each SDF string to a file in the specified output directory.\n",
    "    Additionally, if a bond_order_pair is provided, modify the bond order between these\n",
    "    atoms using OpenBabel before generating the SDF.\n",
    "    \n",
    "    With simple command tool conversion or on-the-fly generation withoit fixing N=N bond, Sage potential from OpenFF produces:\n",
    "    >> The OpenFF Toolkit does not currently support parsing molecules with S- and P-block radicals. \n",
    "    >> Found 1 radical electrons on molecule [H]c1c([H])c([H])c([N][N]c2c([H])c([H])c([H])c([H])c2[H])c([H])c1[H].\n",
    "\n",
    "    text\n",
    "    On-the-fly conversion saves processing time when transferring data. Oftentimes, it is\n",
    "    unnecessary to keep SDF files on disk.\n",
    "\n",
    "    Args:\n",
    "        atoms_list (list): List of ASE Atoms objects.\n",
    "        output_dir (str, optional): Directory in which to save SDF files.\n",
    "        bond_order_pair (tuple, optional): A tuple (atom1_index, atom2_index) specifying the\n",
    "            pair of atoms whose bond order will be modified. Use 1-indexed positions (as required\n",
    "            by OpenBabel's OBMol.GetAtom method). If None, no bond order modifications are made.\n",
    "        new_bond_order (int, optional): The new bond order to set for the specified pair (default is 2).\n",
    "\n",
    "    Returns:\n",
    "        list: A list of io.BytesIO objects containing SDF data for each molecule.\n",
    "    \"\"\"\n",
    "    printed_message = False \n",
    "    sdf_list = []\n",
    "\n",
    "# Create the output directory if requested.\n",
    "    if output_dir is not None:\n",
    "        os.makedirs(output_dir, exist_ok=True)\n",
    "\n",
    "    for i, atoms in enumerate(atoms_list):\n",
    "    # Write the ASE Atoms object to an in-memory XYZ string.\n",
    "        xyz_buffer = io.StringIO()\n",
    "        asewrite(xyz_buffer, atoms, format=\"xyz\")\n",
    "        xyz_str = xyz_buffer.getvalue()\n",
    "\n",
    "        # Convert the XYZ string to a molecule using Pybel.\n",
    "        mol = pybel.readstring(\"xyz\", xyz_str)\n",
    "\n",
    "        # If a bond_order_pair is provided, fix the bond order.\n",
    "        if bond_order_pair is not None:\n",
    "            # Get the underlying OBMol structure.\n",
    "            obmol = mol.OBMol\n",
    "            obmol.ConnectTheDots()\n",
    "            obmol.PerceiveBondOrders()\n",
    "\n",
    "            # Retrieve the atoms using the provided (1-indexed) indices.\n",
    "            atom1 = obmol.GetAtom(bond_order_pair[0])\n",
    "            atom2 = obmol.GetAtom(bond_order_pair[1])\n",
    "            bond = obmol.GetBond(atom1, atom2)\n",
    "            bond = obmol.GetBond(obmol.GetAtom(bond_order_pair[0]), obmol.GetAtom(bond_order_pair[1]))\n",
    "    \n",
    "            if bond is None:\n",
    "                if not printed_message:\n",
    "                    print(f\"No bond found between atoms {bond_order_pair[0]} and {bond_order_pair[1]} in molecule {i}.\")\n",
    "                    printed_message = True  # Set the flag so that this message is printed only once.\n",
    "            else:\n",
    "                bond.SetBondOrder(new_bond_order)\n",
    "                if not printed_message:\n",
    "                    print(f\"Molecule {i}: Set bond order between atoms {bond_order_pair[0]} and {bond_order_pair[1]} to {new_bond_order}.\\n\")\n",
    "                    print('This message will be printed once, but all files will be modified.')\n",
    "                    printed_message = True  # Again, only print once.\n",
    "\n",
    "        # Write the molecule to an SDF string.\n",
    "        sdf_str = mol.write(\"sdf\")\n",
    "        sdf_bytes = sdf_str.encode(\"utf-8\")\n",
    "        sdf_buffer = io.BytesIO(sdf_bytes)\n",
    "        sdf_list.append(sdf_buffer)\n",
    "\n",
    "        # Optionally, save the SDF file to disk.\n",
    "        if output_dir is not None:\n",
    "            filename = os.path.join(output_dir, f\"molecule_{i}.sdf\")\n",
    "            with open(filename, \"w\") as f:\n",
    "                f.write(sdf_str)\n",
    "\n",
    "    return sdf_list"
   ]
  },
  {
   "cell_type": "code",
   "execution_count": 34,
   "metadata": {},
   "outputs": [],
   "source": [
    "def process_batch(atoms_list, N=32, bond_order_pair=None, new_bond_order=2):\n",
    "    \"\"\"\n",
    "    Process a batch of atoms to compute shifted energies and forces.\n",
    "    Parameters:\n",
    "    - atoms_list: List of atoms to process.\n",
    "    - N: Number of parallel processes.\n",
    "    - bond_order_pair: Optional parameter for bond order.\n",
    "    - new_bond_order: Optional parameter for new bond order.\n",
    "    \"\"\"\n",
    "    # Create SDF files from the list of atoms    \n",
    "    sdf_files = create_sdf_batch(atoms_list, bond_order_pair=bond_order_pair, new_bond_order=new_bond_order)\n",
    "    results = parallel_process(sdf_files, N=N)\n",
    "    \n",
    "    E = [energy[0] for _, energy in results]   #unpack energies from list of tuples\n",
    "    E = np.array(E)\n",
    "    E_shifted = E - np.mean(E)\n",
    "    forces = np.array([energy[1] for _, energy in results]  )\n",
    "\n",
    "    return E_shifted, forces"
   ]
  },
  {
   "cell_type": "markdown",
   "metadata": {},
   "source": [
    "### Get single point energies for alanine dipeptide\n"
   ]
  },
  {
   "cell_type": "code",
   "execution_count": 35,
   "metadata": {},
   "outputs": [
    {
     "ename": "KeyboardInterrupt",
     "evalue": "",
     "output_type": "error",
     "traceback": [
      "\u001b[0;31m---------------------------------------------------------------------------\u001b[0m",
      "\u001b[0;31mKeyboardInterrupt\u001b[0m                         Traceback (most recent call last)",
      "Cell \u001b[0;32mIn[35], line 2\u001b[0m\n\u001b[1;32m      1\u001b[0m ad_path \u001b[38;5;241m=\u001b[39m Path(\u001b[38;5;124m'\u001b[39m\u001b[38;5;124mdata/AD/thermal_MD_10k/DFT-logs\u001b[39m\u001b[38;5;124m'\u001b[39m)\n\u001b[0;32m----> 2\u001b[0m ad_atoms_list \u001b[38;5;241m=\u001b[39m [\u001b[43maseread\u001b[49m\u001b[43m(\u001b[49m\u001b[43mx\u001b[49m\u001b[43m)\u001b[49m \u001b[38;5;28;01mfor\u001b[39;00m x \u001b[38;5;129;01min\u001b[39;00m natsorted(ad_path\u001b[38;5;241m.\u001b[39miterdir()) \u001b[38;5;28;01mif\u001b[39;00m x\u001b[38;5;241m.\u001b[39mis_file() \u001b[38;5;129;01mand\u001b[39;00m x\u001b[38;5;241m.\u001b[39msuffix \u001b[38;5;241m==\u001b[39m \u001b[38;5;124m'\u001b[39m\u001b[38;5;124m.log\u001b[39m\u001b[38;5;124m'\u001b[39m]\n",
      "File \u001b[0;32m~/.conda/envs/ff/lib/python3.12/site-packages/ase/io/formats.py:809\u001b[0m, in \u001b[0;36mread\u001b[0;34m(filename, index, format, parallel, do_not_split_by_at_sign, **kwargs)\u001b[0m\n\u001b[1;32m    806\u001b[0m     \u001b[38;5;28;01mreturn\u001b[39;00m \u001b[38;5;28mlist\u001b[39m(_iread(filename, index, \u001b[38;5;28mformat\u001b[39m, io, parallel\u001b[38;5;241m=\u001b[39mparallel,\n\u001b[1;32m    807\u001b[0m                        \u001b[38;5;241m*\u001b[39m\u001b[38;5;241m*\u001b[39mkwargs))\n\u001b[1;32m    808\u001b[0m \u001b[38;5;28;01melse\u001b[39;00m:\n\u001b[0;32m--> 809\u001b[0m     \u001b[38;5;28;01mreturn\u001b[39;00m \u001b[38;5;28;43mnext\u001b[39;49m\u001b[43m(\u001b[49m\u001b[43m_iread\u001b[49m\u001b[43m(\u001b[49m\u001b[43mfilename\u001b[49m\u001b[43m,\u001b[49m\u001b[43m \u001b[49m\u001b[38;5;28;43mslice\u001b[39;49m\u001b[43m(\u001b[49m\u001b[43mindex\u001b[49m\u001b[43m,\u001b[49m\u001b[43m \u001b[49m\u001b[38;5;28;43;01mNone\u001b[39;49;00m\u001b[43m)\u001b[49m\u001b[43m,\u001b[49m\u001b[43m \u001b[49m\u001b[38;5;28;43mformat\u001b[39;49m\u001b[43m,\u001b[49m\u001b[43m \u001b[49m\u001b[43mio\u001b[49m\u001b[43m,\u001b[49m\n\u001b[1;32m    810\u001b[0m \u001b[43m                       \u001b[49m\u001b[43mparallel\u001b[49m\u001b[38;5;241;43m=\u001b[39;49m\u001b[43mparallel\u001b[49m\u001b[43m,\u001b[49m\u001b[43m \u001b[49m\u001b[38;5;241;43m*\u001b[39;49m\u001b[38;5;241;43m*\u001b[39;49m\u001b[43mkwargs\u001b[49m\u001b[43m)\u001b[49m\u001b[43m)\u001b[49m\n",
      "File \u001b[0;32m~/.conda/envs/ff/lib/python3.12/site-packages/ase/parallel.py:302\u001b[0m, in \u001b[0;36mparallel_generator.<locals>.new_generator\u001b[0;34m(*args, **kwargs)\u001b[0m\n\u001b[1;32m    296\u001b[0m \u001b[38;5;129m@functools\u001b[39m\u001b[38;5;241m.\u001b[39mwraps(generator)\n\u001b[1;32m    297\u001b[0m \u001b[38;5;28;01mdef\u001b[39;00m\u001b[38;5;250m \u001b[39m\u001b[38;5;21mnew_generator\u001b[39m(\u001b[38;5;241m*\u001b[39margs, \u001b[38;5;241m*\u001b[39m\u001b[38;5;241m*\u001b[39mkwargs):\n\u001b[1;32m    298\u001b[0m     \u001b[38;5;28;01mif\u001b[39;00m (world\u001b[38;5;241m.\u001b[39msize \u001b[38;5;241m==\u001b[39m \u001b[38;5;241m1\u001b[39m \u001b[38;5;129;01mor\u001b[39;00m\n\u001b[1;32m    299\u001b[0m         args \u001b[38;5;129;01mand\u001b[39;00m \u001b[38;5;28mgetattr\u001b[39m(args[\u001b[38;5;241m0\u001b[39m], \u001b[38;5;124m'\u001b[39m\u001b[38;5;124mserial\u001b[39m\u001b[38;5;124m'\u001b[39m, \u001b[38;5;28;01mFalse\u001b[39;00m) \u001b[38;5;129;01mor\u001b[39;00m\n\u001b[1;32m    300\u001b[0m             \u001b[38;5;129;01mnot\u001b[39;00m kwargs\u001b[38;5;241m.\u001b[39mpop(\u001b[38;5;124m'\u001b[39m\u001b[38;5;124mparallel\u001b[39m\u001b[38;5;124m'\u001b[39m, \u001b[38;5;28;01mTrue\u001b[39;00m)):\n\u001b[1;32m    301\u001b[0m         \u001b[38;5;66;03m# Disable:\u001b[39;00m\n\u001b[0;32m--> 302\u001b[0m \u001b[43m        \u001b[49m\u001b[38;5;28;43;01mfor\u001b[39;49;00m\u001b[43m \u001b[49m\u001b[43mresult\u001b[49m\u001b[43m \u001b[49m\u001b[38;5;129;43;01min\u001b[39;49;00m\u001b[43m \u001b[49m\u001b[43mgenerator\u001b[49m\u001b[43m(\u001b[49m\u001b[38;5;241;43m*\u001b[39;49m\u001b[43margs\u001b[49m\u001b[43m,\u001b[49m\u001b[43m \u001b[49m\u001b[38;5;241;43m*\u001b[39;49m\u001b[38;5;241;43m*\u001b[39;49m\u001b[43mkwargs\u001b[49m\u001b[43m)\u001b[49m\u001b[43m:\u001b[49m\n\u001b[1;32m    303\u001b[0m \u001b[43m            \u001b[49m\u001b[38;5;28;43;01myield\u001b[39;49;00m\u001b[43m \u001b[49m\u001b[43mresult\u001b[49m\n\u001b[1;32m    304\u001b[0m         \u001b[38;5;28;01mreturn\u001b[39;00m\n",
      "File \u001b[0;32m~/.conda/envs/ff/lib/python3.12/site-packages/ase/io/formats.py:865\u001b[0m, in \u001b[0;36m_iread\u001b[0;34m(filename, index, format, io, parallel, full_output, **kwargs)\u001b[0m\n\u001b[1;32m    863\u001b[0m \u001b[38;5;28;01mif\u001b[39;00m io\u001b[38;5;241m.\u001b[39macceptsfd:\n\u001b[1;32m    864\u001b[0m     mode \u001b[38;5;241m=\u001b[39m \u001b[38;5;124m'\u001b[39m\u001b[38;5;124mrb\u001b[39m\u001b[38;5;124m'\u001b[39m \u001b[38;5;28;01mif\u001b[39;00m io\u001b[38;5;241m.\u001b[39misbinary \u001b[38;5;28;01melse\u001b[39;00m \u001b[38;5;124m'\u001b[39m\u001b[38;5;124mr\u001b[39m\u001b[38;5;124m'\u001b[39m\n\u001b[0;32m--> 865\u001b[0m     fd \u001b[38;5;241m=\u001b[39m \u001b[43mopen_with_compression\u001b[49m\u001b[43m(\u001b[49m\u001b[43mfilename\u001b[49m\u001b[43m,\u001b[49m\u001b[43m \u001b[49m\u001b[43mmode\u001b[49m\u001b[43m)\u001b[49m\n\u001b[1;32m    866\u001b[0m     must_close_fd \u001b[38;5;241m=\u001b[39m \u001b[38;5;28;01mTrue\u001b[39;00m\n\u001b[1;32m    867\u001b[0m \u001b[38;5;28;01melse\u001b[39;00m:\n",
      "File \u001b[0;32m~/.conda/envs/ff/lib/python3.12/site-packages/ase/io/formats.py:606\u001b[0m, in \u001b[0;36mopen_with_compression\u001b[0;34m(filename, mode)\u001b[0m\n\u001b[1;32m    603\u001b[0m     \u001b[38;5;28;01mreturn\u001b[39;00m lzma\u001b[38;5;241m.\u001b[39mopen(filename, mode)\n\u001b[1;32m    604\u001b[0m \u001b[38;5;28;01melse\u001b[39;00m:\n\u001b[1;32m    605\u001b[0m     \u001b[38;5;66;03m# Either None or unknown string\u001b[39;00m\n\u001b[0;32m--> 606\u001b[0m     \u001b[38;5;28;01mreturn\u001b[39;00m \u001b[38;5;28;43mopen\u001b[39;49m\u001b[43m(\u001b[49m\u001b[43mfilename\u001b[49m\u001b[43m,\u001b[49m\u001b[43m \u001b[49m\u001b[43mmode\u001b[49m\u001b[43m)\u001b[49m\n",
      "File \u001b[0;32m~/.conda/envs/ff/lib/python3.12/codecs.py:309\u001b[0m, in \u001b[0;36mBufferedIncrementalDecoder.__init__\u001b[0;34m(self, errors)\u001b[0m\n\u001b[1;32m    303\u001b[0m \u001b[38;5;28;01mclass\u001b[39;00m\u001b[38;5;250m \u001b[39m\u001b[38;5;21;01mBufferedIncrementalDecoder\u001b[39;00m(IncrementalDecoder):\n\u001b[1;32m    304\u001b[0m \u001b[38;5;250m    \u001b[39m\u001b[38;5;124;03m\"\"\"\u001b[39;00m\n\u001b[1;32m    305\u001b[0m \u001b[38;5;124;03m    This subclass of IncrementalDecoder can be used as the baseclass for an\u001b[39;00m\n\u001b[1;32m    306\u001b[0m \u001b[38;5;124;03m    incremental decoder if the decoder must be able to handle incomplete\u001b[39;00m\n\u001b[1;32m    307\u001b[0m \u001b[38;5;124;03m    byte sequences.\u001b[39;00m\n\u001b[1;32m    308\u001b[0m \u001b[38;5;124;03m    \"\"\"\u001b[39;00m\n\u001b[0;32m--> 309\u001b[0m     \u001b[38;5;28;01mdef\u001b[39;00m\u001b[38;5;250m \u001b[39m\u001b[38;5;21m__init__\u001b[39m(\u001b[38;5;28mself\u001b[39m, errors\u001b[38;5;241m=\u001b[39m\u001b[38;5;124m'\u001b[39m\u001b[38;5;124mstrict\u001b[39m\u001b[38;5;124m'\u001b[39m):\n\u001b[1;32m    310\u001b[0m         IncrementalDecoder\u001b[38;5;241m.\u001b[39m\u001b[38;5;21m__init__\u001b[39m(\u001b[38;5;28mself\u001b[39m, errors)\n\u001b[1;32m    311\u001b[0m         \u001b[38;5;66;03m# undecoded input that is kept between calls to decode()\u001b[39;00m\n",
      "\u001b[0;31mKeyboardInterrupt\u001b[0m: "
     ]
    }
   ],
   "source": [
    "ad_path = Path('data/AD/thermal_MD_10k/DFT-logs')\n",
    "ad_atoms_list = [aseread(x) for x in natsorted(ad_path.iterdir()) if x.is_file() and x.suffix == '.log']"
   ]
  },
  {
   "cell_type": "code",
   "execution_count": null,
   "metadata": {},
   "outputs": [
    {
     "name": "stderr",
     "output_type": "stream",
     "text": [
      "100%|██████████| 10000/10000 [02:36<00:00, 64.05it/s]\n"
     ]
    }
   ],
   "source": [
    "ad_results = process_batch(ad_atoms_list, N=48)"
   ]
  },
  {
   "cell_type": "code",
   "execution_count": null,
   "metadata": {},
   "outputs": [],
   "source": [
    "np.save('data/AD/thermal_MD_10k/ad_E_sage_kcal_mol.npy', ad_results[0])\n",
    "np.save('data/AD/thermal_MD_10k/ad_F_sage_kcal_mol_A.npy', ad_results[1])"
   ]
  },
  {
   "cell_type": "markdown",
   "metadata": {},
   "source": [
    "### Get single point energies for azobenzene\n"
   ]
  },
  {
   "cell_type": "code",
   "execution_count": null,
   "metadata": {},
   "outputs": [
    {
     "name": "stdout",
     "output_type": "stream",
     "text": [
      "Molecule 0: Set bond order between atoms 12 and 13 to 2.\n",
      "\n",
      "This message will be printed once, but all files will be modified.\n"
     ]
    },
    {
     "name": "stderr",
     "output_type": "stream",
     "text": [
      "100%|██████████| 10000/10000 [02:37<00:00, 63.45it/s]\n"
     ]
    }
   ],
   "source": [
    "az_path = Path('data/AZ/thermal_MD_10k/DFT-logs')\n",
    "az_atoms_list = [aseread(x) for x in natsorted(az_path.iterdir()) if x.is_file() and x.suffix == '.log']\n",
    "az_results = process_batch(az_atoms_list, N=48, bond_order_pair=(12, 13), new_bond_order=2)"
   ]
  },
  {
   "cell_type": "code",
   "execution_count": null,
   "metadata": {},
   "outputs": [],
   "source": [
    "np.save('data/AZ/thermal_MD_10k/az_E_sage_kcal_mol.npy', az_results[0])\n",
    "np.save('data/AZ/thermal_MD_10k/az_F_sage_kcal_mol_A.npy', az_results[1])"
   ]
  },
  {
   "cell_type": "markdown",
   "metadata": {},
   "source": [
    "# Azobenzene ISOMERIZATION trajectories "
   ]
  },
  {
   "cell_type": "code",
   "execution_count": null,
   "metadata": {},
   "outputs": [
    {
     "name": "stdout",
     "output_type": "stream",
     "text": [
      "Molecule 0: Set bond order between atoms 12 and 13 to 2.\n",
      "\n",
      "This message will be printed once, but all files will be modified.\n"
     ]
    },
    {
     "name": "stderr",
     "output_type": "stream",
     "text": [
      "100%|██████████| 179/179 [00:03<00:00, 45.36it/s]\n"
     ]
    }
   ],
   "source": [
    "cs_path = Path('data/AZ/cs-inversion/AZ_cs-DFT_inversion_path.xyz')\n",
    "cs_atoms_list = aseread(cs_path, index=\":\")\n",
    "cs_iso_results = process_batch(cs_atoms_list, N=48, bond_order_pair=(12, 13), new_bond_order=2)\n"
   ]
  },
  {
   "cell_type": "code",
   "execution_count": null,
   "metadata": {},
   "outputs": [],
   "source": [
    "np.save('data/AZ/cs-inversion/cs_inv_E_sage_kcal_mol.npy', cs_iso_results[0])"
   ]
  },
  {
   "cell_type": "code",
   "execution_count": 36,
   "metadata": {},
   "outputs": [
    {
     "name": "stdout",
     "output_type": "stream",
     "text": [
      "Molecule 0: Set bond order between atoms 1 and 13 to 2.\n",
      "\n",
      "This message will be printed once, but all files will be modified.\n"
     ]
    },
    {
     "name": "stderr",
     "output_type": "stream",
     "text": [
      "100%|██████████| 270/270 [00:05<00:00, 53.82it/s]\n"
     ]
    }
   ],
   "source": [
    "os_path = Path('data/AZ/os-rotation/AZ_os-DFT_rotation_path.xyz')\n",
    "os_atoms_list = aseread(os_path, index=\":\")\n",
    "os_iso_results = process_batch(os_atoms_list, N=48, bond_order_pair=(1, 13), new_bond_order=2)"
   ]
  },
  {
   "cell_type": "code",
   "execution_count": 37,
   "metadata": {},
   "outputs": [],
   "source": [
    "np.save('data/AZ/os-rotation/os_rot_E_sage_kcal_mol.npy', os_iso_results[0])"
   ]
  },
  {
   "cell_type": "code",
   "execution_count": null,
   "metadata": {},
   "outputs": [],
   "source": []
  }
 ],
 "metadata": {
  "kernelspec": {
   "display_name": "ff",
   "language": "python",
   "name": "ff"
  },
  "language_info": {
   "codemirror_mode": {
    "name": "ipython",
    "version": 3
   },
   "file_extension": ".py",
   "mimetype": "text/x-python",
   "name": "python",
   "nbconvert_exporter": "python",
   "pygments_lexer": "ipython3",
   "version": "3.12.9"
  }
 },
 "nbformat": 4,
 "nbformat_minor": 2
}
